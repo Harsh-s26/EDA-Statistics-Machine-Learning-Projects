{
 "cells": [
  {
   "cell_type": "markdown",
   "id": "f2acd548",
   "metadata": {},
   "source": [
    "# Problem Statement\n",
    "HR analytics is revolutionising the way human resources departments operate, leading to higher efficiency and better results overall. Human resources has been using analytics for years. However, the collection, processing and analysis of data has been largely manual, and given the nature of human resources dynamics and HR KPIs, the approach has been constraining HR. Therefore, it is surprising that HR departments woke up to the utility of machine learning so late in the game. Here is an opportunity to try predictive analytics in identifying the employees most likely to get promoted."
   ]
  },
  {
   "cell_type": "markdown",
   "id": "46c7eb8c",
   "metadata": {},
   "source": [
    "# Dataset Description\n",
    "Variable\tDefinition\n",
    "employee_id -Unique ID for employee\n",
    "department\t- Department of employee\n",
    "region -\tRegion of employment (unordered)\n",
    "education - Education Level\n",
    "gender - Gender of Employee\n",
    "recruitment_channel - Channel of recruitment for employee\n",
    "no_of_trainings - no of other trainings completed in previous year on soft skills, technical skills etc.\n",
    "age - Age of Employee\n",
    "previous_year_rating - Employee Rating for the previous year\n",
    "length_of_service - Length of service in years\n",
    "KPIs_met >80% - if Percent of KPIs(Key performance Indicators) >80% then 1 else 0\n",
    "awards_won? - if awards won during previous year then 1 else 0\n",
    "avg_training_score - Average score in current training evaluations\n",
    "is_promoted\t(Target) - Recommended for promotion"
   ]
  },
  {
   "cell_type": "code",
   "execution_count": 1,
   "id": "d5cf5515",
   "metadata": {},
   "outputs": [],
   "source": [
    "import numpy as np\n",
    "import pandas as pd\n",
    "import matplotlib.pyplot as plt\n",
    "import seaborn as sns\n",
    "import warnings\n",
    "warnings.filterwarnings('ignore')"
   ]
  },
  {
   "cell_type": "code",
   "execution_count": 2,
   "id": "482191e7",
   "metadata": {},
   "outputs": [],
   "source": [
    "dt_train = pd.read_csv(r'C:\\Users\\jyo14\\.jupyter\\hr_train.csv')"
   ]
  },
  {
   "cell_type": "code",
   "execution_count": 3,
   "id": "6b877954",
   "metadata": {},
   "outputs": [
    {
     "data": {
      "text/plain": [
       "(54808, 14)"
      ]
     },
     "execution_count": 3,
     "metadata": {},
     "output_type": "execute_result"
    }
   ],
   "source": [
    "dt_train.shape\n",
    "#dt_train.columns"
   ]
  },
  {
   "cell_type": "code",
   "execution_count": 4,
   "id": "f103fed4",
   "metadata": {},
   "outputs": [
    {
     "data": {
      "text/plain": [
       "employee_id                0\n",
       "department                 0\n",
       "region                     0\n",
       "education               2409\n",
       "gender                     0\n",
       "recruitment_channel        0\n",
       "no_of_trainings            0\n",
       "age                        0\n",
       "previous_year_rating    4124\n",
       "length_of_service          0\n",
       "KPIs_met >80%              0\n",
       "awards_won?                0\n",
       "avg_training_score         0\n",
       "is_promoted                0\n",
       "dtype: int64"
      ]
     },
     "execution_count": 4,
     "metadata": {},
     "output_type": "execute_result"
    }
   ],
   "source": [
    "dt_train.isnull().sum()"
   ]
  },
  {
   "cell_type": "code",
   "execution_count": 5,
   "id": "3245d3ec",
   "metadata": {},
   "outputs": [
    {
     "name": "stdout",
     "output_type": "stream",
     "text": [
      "<class 'pandas.core.frame.DataFrame'>\n",
      "RangeIndex: 54808 entries, 0 to 54807\n",
      "Data columns (total 14 columns):\n",
      " #   Column                Non-Null Count  Dtype  \n",
      "---  ------                --------------  -----  \n",
      " 0   employee_id           54808 non-null  int64  \n",
      " 1   department            54808 non-null  object \n",
      " 2   region                54808 non-null  object \n",
      " 3   education             52399 non-null  object \n",
      " 4   gender                54808 non-null  object \n",
      " 5   recruitment_channel   54808 non-null  object \n",
      " 6   no_of_trainings       54808 non-null  int64  \n",
      " 7   age                   54808 non-null  int64  \n",
      " 8   previous_year_rating  50684 non-null  float64\n",
      " 9   length_of_service     54808 non-null  int64  \n",
      " 10  KPIs_met >80%         54808 non-null  int64  \n",
      " 11  awards_won?           54808 non-null  int64  \n",
      " 12  avg_training_score    54808 non-null  int64  \n",
      " 13  is_promoted           54808 non-null  int64  \n",
      "dtypes: float64(1), int64(8), object(5)\n",
      "memory usage: 5.9+ MB\n"
     ]
    }
   ],
   "source": [
    "dt_train.info()"
   ]
  },
  {
   "cell_type": "code",
   "execution_count": 6,
   "id": "21844ed1",
   "metadata": {},
   "outputs": [],
   "source": [
    "dt_train['education'] = dt_train['education'].fillna(dt_train['education'].mode()[0])"
   ]
  },
  {
   "cell_type": "code",
   "execution_count": 7,
   "id": "574bb73c",
   "metadata": {},
   "outputs": [
    {
     "data": {
      "text/plain": [
       "0"
      ]
     },
     "execution_count": 7,
     "metadata": {},
     "output_type": "execute_result"
    }
   ],
   "source": [
    "dt_train.education.isnull().sum()"
   ]
  },
  {
   "cell_type": "code",
   "execution_count": 8,
   "id": "6aa711b3",
   "metadata": {},
   "outputs": [
    {
     "data": {
      "text/plain": [
       "array([ 5.,  3.,  1.,  4., nan,  2.])"
      ]
     },
     "execution_count": 8,
     "metadata": {},
     "output_type": "execute_result"
    }
   ],
   "source": [
    "dt_train['previous_year_rating'].unique()"
   ]
  },
  {
   "cell_type": "code",
   "execution_count": 9,
   "id": "fe91ce92",
   "metadata": {},
   "outputs": [],
   "source": [
    "dt_train['previous_year_rating'] = dt_train['previous_year_rating'].fillna(dt_train['previous_year_rating'].mode()[0])"
   ]
  },
  {
   "cell_type": "code",
   "execution_count": 10,
   "id": "45a2fbde",
   "metadata": {},
   "outputs": [
    {
     "data": {
      "text/plain": [
       "employee_id             0\n",
       "department              0\n",
       "region                  0\n",
       "education               0\n",
       "gender                  0\n",
       "recruitment_channel     0\n",
       "no_of_trainings         0\n",
       "age                     0\n",
       "previous_year_rating    0\n",
       "length_of_service       0\n",
       "KPIs_met >80%           0\n",
       "awards_won?             0\n",
       "avg_training_score      0\n",
       "is_promoted             0\n",
       "dtype: int64"
      ]
     },
     "execution_count": 10,
     "metadata": {},
     "output_type": "execute_result"
    }
   ],
   "source": [
    "dt_train.isnull().sum()"
   ]
  },
  {
   "cell_type": "code",
   "execution_count": 11,
   "id": "3bc02bce",
   "metadata": {},
   "outputs": [],
   "source": [
    "# Univariate Analysis"
   ]
  },
  {
   "cell_type": "code",
   "execution_count": 12,
   "id": "d05206aa",
   "metadata": {},
   "outputs": [],
   "source": [
    "num_col = dt_train.select_dtypes(include=np.number).columns.to_list()"
   ]
  },
  {
   "cell_type": "code",
   "execution_count": 13,
   "id": "ea585dfc",
   "metadata": {},
   "outputs": [],
   "source": [
    "cat_col = dt_train.select_dtypes(include=object).columns.to_list()"
   ]
  },
  {
   "cell_type": "code",
   "execution_count": 14,
   "id": "d49cc928",
   "metadata": {},
   "outputs": [
    {
     "data": {
      "text/plain": [
       "<Axes: xlabel='is_promoted', ylabel='length_of_service'>"
      ]
     },
     "execution_count": 14,
     "metadata": {},
     "output_type": "execute_result"
    },
    {
     "data": {
      "image/png": "[encoded data removed]",
      "text/plain": [
       "<Figure size 640x480 with 1 Axes>"
      ]
     },
     "metadata": {},
     "output_type": "display_data"
    }
   ],
   "source": [
    "sns.barplot(y='length_of_service',x='is_promoted',data=dt_train)"
   ]
  },
  {
   "cell_type": "code",
   "execution_count": 15,
   "id": "62b23b3e",
   "metadata": {},
   "outputs": [
    {
     "data": {
      "text/plain": [
       "<Axes: >"
      ]
     },
     "execution_count": 15,
     "metadata": {},
     "output_type": "execute_result"
    },
    {
     "data": {
      "image/png": "[encoded data removed]",
      "text/plain": [
       "<Figure size 640x480 with 2 Axes>"
      ]
     },
     "metadata": {},
     "output_type": "display_data"
    }
   ],
   "source": [
    "sns.heatmap(dt_train[num_col].corr(),annot=True)"
   ]
  },
  {
   "cell_type": "code",
   "execution_count": 16,
   "id": "0aa0cded",
   "metadata": {},
   "outputs": [
    {
     "data": {
      "text/plain": [
       "employee_id            -0.003128\n",
       "no_of_trainings         3.445434\n",
       "age                     1.007432\n",
       "previous_year_rating   -0.260858\n",
       "length_of_service       1.738061\n",
       "KPIs_met >80%           0.619909\n",
       "awards_won?             6.338914\n",
       "avg_training_score      0.451908\n",
       "is_promoted             2.972339\n",
       "dtype: float64"
      ]
     },
     "execution_count": 16,
     "metadata": {},
     "output_type": "execute_result"
    }
   ],
   "source": [
    "dt_train[num_col].skew()"
   ]
  },
  {
   "cell_type": "code",
   "execution_count": 17,
   "id": "ac623315",
   "metadata": {},
   "outputs": [],
   "source": [
    "from sklearn.preprocessing import LabelEncoder"
   ]
  },
  {
   "cell_type": "code",
   "execution_count": 18,
   "id": "5ef29639",
   "metadata": {},
   "outputs": [],
   "source": [
    "l = LabelEncoder()"
   ]
  },
  {
   "cell_type": "code",
   "execution_count": 19,
   "id": "8cb13ce8",
   "metadata": {},
   "outputs": [],
   "source": [
    "dt_train['education'] = l.fit_transform(dt_train['education'])"
   ]
  },
  {
   "cell_type": "code",
   "execution_count": 20,
   "id": "b0ab86fd",
   "metadata": {},
   "outputs": [],
   "source": [
    "dt_train['department'] = l.fit_transform(dt_train['department'])"
   ]
  },
  {
   "cell_type": "code",
   "execution_count": 21,
   "id": "f66101c1",
   "metadata": {},
   "outputs": [],
   "source": [
    "dt_train['gender'] = l.fit_transform(dt_train['gender'])\n",
    "dt_train['recruitment_channel'] = l.fit_transform(dt_train['recruitment_channel'])"
   ]
  },
  {
   "cell_type": "code",
   "execution_count": 22,
   "id": "3ec55e69",
   "metadata": {},
   "outputs": [
    {
     "data": {
      "text/html": [
       "<div>\n",
       "<style scoped>\n",
       "    .dataframe tbody tr th:only-of-type {\n",
       "        vertical-align: middle;\n",
       "    }\n",
       "\n",
       "    .dataframe tbody tr th {\n",
       "        vertical-align: top;\n",
       "    }\n",
       "\n",
       "    .dataframe thead th {\n",
       "        text-align: right;\n",
       "    }\n",
       "</style>\n",
       "<table border=\"1\" class=\"dataframe\">\n",
       "  <thead>\n",
       "    <tr style=\"text-align: right;\">\n",
       "      <th></th>\n",
       "      <th>employee_id</th>\n",
       "      <th>department</th>\n",
       "      <th>region</th>\n",
       "      <th>education</th>\n",
       "      <th>gender</th>\n",
       "      <th>recruitment_channel</th>\n",
       "      <th>no_of_trainings</th>\n",
       "      <th>age</th>\n",
       "      <th>previous_year_rating</th>\n",
       "      <th>length_of_service</th>\n",
       "      <th>KPIs_met &gt;80%</th>\n",
       "      <th>awards_won?</th>\n",
       "      <th>avg_training_score</th>\n",
       "      <th>is_promoted</th>\n",
       "    </tr>\n",
       "  </thead>\n",
       "  <tbody>\n",
       "    <tr>\n",
       "      <th>0</th>\n",
       "      <td>65438</td>\n",
       "      <td>7</td>\n",
       "      <td>region_7</td>\n",
       "      <td>2</td>\n",
       "      <td>0</td>\n",
       "      <td>2</td>\n",
       "      <td>1</td>\n",
       "      <td>35</td>\n",
       "      <td>5.0</td>\n",
       "      <td>8</td>\n",
       "      <td>1</td>\n",
       "      <td>0</td>\n",
       "      <td>49</td>\n",
       "      <td>0</td>\n",
       "    </tr>\n",
       "    <tr>\n",
       "      <th>1</th>\n",
       "      <td>65141</td>\n",
       "      <td>4</td>\n",
       "      <td>region_22</td>\n",
       "      <td>0</td>\n",
       "      <td>1</td>\n",
       "      <td>0</td>\n",
       "      <td>1</td>\n",
       "      <td>30</td>\n",
       "      <td>5.0</td>\n",
       "      <td>4</td>\n",
       "      <td>0</td>\n",
       "      <td>0</td>\n",
       "      <td>60</td>\n",
       "      <td>0</td>\n",
       "    </tr>\n",
       "    <tr>\n",
       "      <th>2</th>\n",
       "      <td>7513</td>\n",
       "      <td>7</td>\n",
       "      <td>region_19</td>\n",
       "      <td>0</td>\n",
       "      <td>1</td>\n",
       "      <td>2</td>\n",
       "      <td>1</td>\n",
       "      <td>34</td>\n",
       "      <td>3.0</td>\n",
       "      <td>7</td>\n",
       "      <td>0</td>\n",
       "      <td>0</td>\n",
       "      <td>50</td>\n",
       "      <td>0</td>\n",
       "    </tr>\n",
       "    <tr>\n",
       "      <th>3</th>\n",
       "      <td>2542</td>\n",
       "      <td>7</td>\n",
       "      <td>region_23</td>\n",
       "      <td>0</td>\n",
       "      <td>1</td>\n",
       "      <td>0</td>\n",
       "      <td>2</td>\n",
       "      <td>39</td>\n",
       "      <td>1.0</td>\n",
       "      <td>10</td>\n",
       "      <td>0</td>\n",
       "      <td>0</td>\n",
       "      <td>50</td>\n",
       "      <td>0</td>\n",
       "    </tr>\n",
       "    <tr>\n",
       "      <th>4</th>\n",
       "      <td>48945</td>\n",
       "      <td>8</td>\n",
       "      <td>region_26</td>\n",
       "      <td>0</td>\n",
       "      <td>1</td>\n",
       "      <td>0</td>\n",
       "      <td>1</td>\n",
       "      <td>45</td>\n",
       "      <td>3.0</td>\n",
       "      <td>2</td>\n",
       "      <td>0</td>\n",
       "      <td>0</td>\n",
       "      <td>73</td>\n",
       "      <td>0</td>\n",
       "    </tr>\n",
       "    <tr>\n",
       "      <th>...</th>\n",
       "      <td>...</td>\n",
       "      <td>...</td>\n",
       "      <td>...</td>\n",
       "      <td>...</td>\n",
       "      <td>...</td>\n",
       "      <td>...</td>\n",
       "      <td>...</td>\n",
       "      <td>...</td>\n",
       "      <td>...</td>\n",
       "      <td>...</td>\n",
       "      <td>...</td>\n",
       "      <td>...</td>\n",
       "      <td>...</td>\n",
       "      <td>...</td>\n",
       "    </tr>\n",
       "    <tr>\n",
       "      <th>54803</th>\n",
       "      <td>3030</td>\n",
       "      <td>8</td>\n",
       "      <td>region_14</td>\n",
       "      <td>0</td>\n",
       "      <td>1</td>\n",
       "      <td>2</td>\n",
       "      <td>1</td>\n",
       "      <td>48</td>\n",
       "      <td>3.0</td>\n",
       "      <td>17</td>\n",
       "      <td>0</td>\n",
       "      <td>0</td>\n",
       "      <td>78</td>\n",
       "      <td>0</td>\n",
       "    </tr>\n",
       "    <tr>\n",
       "      <th>54804</th>\n",
       "      <td>74592</td>\n",
       "      <td>4</td>\n",
       "      <td>region_27</td>\n",
       "      <td>2</td>\n",
       "      <td>0</td>\n",
       "      <td>0</td>\n",
       "      <td>1</td>\n",
       "      <td>37</td>\n",
       "      <td>2.0</td>\n",
       "      <td>6</td>\n",
       "      <td>0</td>\n",
       "      <td>0</td>\n",
       "      <td>56</td>\n",
       "      <td>0</td>\n",
       "    </tr>\n",
       "    <tr>\n",
       "      <th>54805</th>\n",
       "      <td>13918</td>\n",
       "      <td>0</td>\n",
       "      <td>region_1</td>\n",
       "      <td>0</td>\n",
       "      <td>1</td>\n",
       "      <td>0</td>\n",
       "      <td>1</td>\n",
       "      <td>27</td>\n",
       "      <td>5.0</td>\n",
       "      <td>3</td>\n",
       "      <td>1</td>\n",
       "      <td>0</td>\n",
       "      <td>79</td>\n",
       "      <td>0</td>\n",
       "    </tr>\n",
       "    <tr>\n",
       "      <th>54806</th>\n",
       "      <td>13614</td>\n",
       "      <td>7</td>\n",
       "      <td>region_9</td>\n",
       "      <td>0</td>\n",
       "      <td>1</td>\n",
       "      <td>2</td>\n",
       "      <td>1</td>\n",
       "      <td>29</td>\n",
       "      <td>1.0</td>\n",
       "      <td>2</td>\n",
       "      <td>0</td>\n",
       "      <td>0</td>\n",
       "      <td>45</td>\n",
       "      <td>0</td>\n",
       "    </tr>\n",
       "    <tr>\n",
       "      <th>54807</th>\n",
       "      <td>51526</td>\n",
       "      <td>2</td>\n",
       "      <td>region_22</td>\n",
       "      <td>0</td>\n",
       "      <td>1</td>\n",
       "      <td>0</td>\n",
       "      <td>1</td>\n",
       "      <td>27</td>\n",
       "      <td>1.0</td>\n",
       "      <td>5</td>\n",
       "      <td>0</td>\n",
       "      <td>0</td>\n",
       "      <td>49</td>\n",
       "      <td>0</td>\n",
       "    </tr>\n",
       "  </tbody>\n",
       "</table>\n",
       "<p>54808 rows × 14 columns</p>\n",
       "</div>"
      ],
      "text/plain": [
       "       employee_id  department     region  education  gender  \\\n",
       "0            65438           7   region_7          2       0   \n",
       "1            65141           4  region_22          0       1   \n",
       "2             7513           7  region_19          0       1   \n",
       "3             2542           7  region_23          0       1   \n",
       "4            48945           8  region_26          0       1   \n",
       "...            ...         ...        ...        ...     ...   \n",
       "54803         3030           8  region_14          0       1   \n",
       "54804        74592           4  region_27          2       0   \n",
       "54805        13918           0   region_1          0       1   \n",
       "54806        13614           7   region_9          0       1   \n",
       "54807        51526           2  region_22          0       1   \n",
       "\n",
       "       recruitment_channel  no_of_trainings  age  previous_year_rating  \\\n",
       "0                        2                1   35                   5.0   \n",
       "1                        0                1   30                   5.0   \n",
       "2                        2                1   34                   3.0   \n",
       "3                        0                2   39                   1.0   \n",
       "4                        0                1   45                   3.0   \n",
       "...                    ...              ...  ...                   ...   \n",
       "54803                    2                1   48                   3.0   \n",
       "54804                    0                1   37                   2.0   \n",
       "54805                    0                1   27                   5.0   \n",
       "54806                    2                1   29                   1.0   \n",
       "54807                    0                1   27                   1.0   \n",
       "\n",
       "       length_of_service  KPIs_met >80%  awards_won?  avg_training_score  \\\n",
       "0                      8              1            0                  49   \n",
       "1                      4              0            0                  60   \n",
       "2                      7              0            0                  50   \n",
       "3                     10              0            0                  50   \n",
       "4                      2              0            0                  73   \n",
       "...                  ...            ...          ...                 ...   \n",
       "54803                 17              0            0                  78   \n",
       "54804                  6              0            0                  56   \n",
       "54805                  3              1            0                  79   \n",
       "54806                  2              0            0                  45   \n",
       "54807                  5              0            0                  49   \n",
       "\n",
       "       is_promoted  \n",
       "0                0  \n",
       "1                0  \n",
       "2                0  \n",
       "3                0  \n",
       "4                0  \n",
       "...            ...  \n",
       "54803            0  \n",
       "54804            0  \n",
       "54805            0  \n",
       "54806            0  \n",
       "54807            0  \n",
       "\n",
       "[54808 rows x 14 columns]"
      ]
     },
     "execution_count": 22,
     "metadata": {},
     "output_type": "execute_result"
    }
   ],
   "source": [
    "dt_train"
   ]
  },
  {
   "cell_type": "code",
   "execution_count": null,
   "id": "76cdd5e5",
   "metadata": {},
   "outputs": [],
   "source": []
  },
  {
   "cell_type": "code",
   "execution_count": 23,
   "id": "ef4dd041",
   "metadata": {},
   "outputs": [
    {
     "data": {
      "text/plain": [
       "1.738061458740809"
      ]
     },
     "execution_count": 23,
     "metadata": {},
     "output_type": "execute_result"
    }
   ],
   "source": [
    "dt_train.length_of_service.skew()"
   ]
  },
  {
   "cell_type": "code",
   "execution_count": 24,
   "id": "35b8d894",
   "metadata": {},
   "outputs": [],
   "source": [
    "from sklearn.model_selection import train_test_split"
   ]
  },
  {
   "cell_type": "code",
   "execution_count": 25,
   "id": "631ff033",
   "metadata": {},
   "outputs": [],
   "source": [
    "x = dt_train.drop(columns=['employee_id','region','is_promoted'],axis=1)\n",
    "y = dt_train['is_promoted']\n",
    "xtrain,xtest,ytrain,ytest = train_test_split(x,y,train_size=0.8,random_state=100)"
   ]
  },
  {
   "cell_type": "code",
   "execution_count": 26,
   "id": "04474e39",
   "metadata": {},
   "outputs": [
    {
     "name": "stdout",
     "output_type": "stream",
     "text": [
      "(43846, 11)\n",
      "(43846,)\n",
      "(10962, 11)\n",
      "(10962,)\n"
     ]
    }
   ],
   "source": [
    "print(xtrain.shape)\n",
    "print(ytrain.shape)\n",
    "print(xtest.shape)\n",
    "print(ytest.shape)"
   ]
  },
  {
   "cell_type": "code",
   "execution_count": 27,
   "id": "1bd06bcf",
   "metadata": {},
   "outputs": [],
   "source": [
    "# Statistical Analysis"
   ]
  },
  {
   "cell_type": "code",
   "execution_count": 28,
   "id": "555a1443",
   "metadata": {},
   "outputs": [],
   "source": [
    "from scipy import stats"
   ]
  },
  {
   "cell_type": "markdown",
   "id": "09eaaab6",
   "metadata": {},
   "source": [
    "Ho : Both train and test data represent overall data\n",
    "Ha : Both train and test data do not represent overall data    "
   ]
  },
  {
   "cell_type": "code",
   "execution_count": 29,
   "id": "8ff4bf6a",
   "metadata": {},
   "outputs": [],
   "source": [
    "def ttest_ind(train,test,feature):\n",
    "    stat,pval=stats.ttest_ind(train[feature],test[feature])\n",
    "    return pval"
   ]
  },
  {
   "cell_type": "code",
   "execution_count": 30,
   "id": "f85ed8b3",
   "metadata": {},
   "outputs": [
    {
     "name": "stdout",
     "output_type": "stream",
     "text": [
      "department ; 0.6724824756118888\n",
      "education ; 0.5342009064347312\n",
      "gender ; 0.6824205869622799\n",
      "recruitment_channel ; 0.4841702795216396\n",
      "no_of_trainings ; 0.4563270154424238\n",
      "age ; 0.26088131967404327\n",
      "previous_year_rating ; 0.9668918892633942\n",
      "length_of_service ; 0.08508499838321028\n",
      "KPIs_met >80% ; 0.340176076436044\n",
      "awards_won? ; 0.0469541411395389\n",
      "avg_training_score ; 0.029098318013625113\n"
     ]
    }
   ],
   "source": [
    "for i in xtrain.columns.to_list():\n",
    "    pval = ttest_ind(xtrain,xtest,i)\n",
    "    print(i,';',pval)"
   ]
  },
  {
   "cell_type": "code",
   "execution_count": 31,
   "id": "fb9000cb",
   "metadata": {},
   "outputs": [],
   "source": [
    "# As the pvalue is greater than alpha value(0.05),we fail to reject Null hypothesis"
   ]
  },
  {
   "cell_type": "code",
   "execution_count": 32,
   "id": "dbc3a793",
   "metadata": {},
   "outputs": [],
   "source": [
    "from sklearn.preprocessing import StandardScaler\n",
    "sc = StandardScaler()\n",
    "scale=dt_train[['age','length_of_service','avg_training_score']]\n",
    "xtrain_sc = sc.fit_transform(scale)"
   ]
  },
  {
   "cell_type": "code",
   "execution_count": 33,
   "id": "376f623b",
   "metadata": {},
   "outputs": [
    {
     "data": {
      "text/plain": [
       "1.0"
      ]
     },
     "execution_count": 33,
     "metadata": {},
     "output_type": "execute_result"
    }
   ],
   "source": [
    "xtrain_sc.std()"
   ]
  },
  {
   "cell_type": "markdown",
   "id": "39bab3e4",
   "metadata": {},
   "source": [
    "# Predictive Modeling"
   ]
  },
  {
   "cell_type": "code",
   "execution_count": 34,
   "id": "f35d51cc",
   "metadata": {},
   "outputs": [],
   "source": [
    "from sklearn.linear_model import LogisticRegression\n",
    "from sklearn.ensemble import RandomForestClassifier,AdaBoostClassifier,GradientBoostingClassifier\n",
    "from sklearn.tree import DecisionTreeClassifier\n",
    "from xgboost import XGBClassifier\n",
    "from sklearn.metrics import accuracy_score,precision_score,recall_score,f1_score,roc_auc_score,roc_curve,cohen_kappa_score,classification_report\n",
    "from sklearn.model_selection import GridSearchCV\n",
    "from sklearn.ensemble import VotingClassifier,StackingClassifier"
   ]
  },
  {
   "cell_type": "code",
   "execution_count": 35,
   "id": "3b9dba43",
   "metadata": {},
   "outputs": [],
   "source": [
    "mod = []\n",
    "acu = []\n",
    "pre = []\n",
    "f1 = []\n",
    "rec = []\n",
    "ck = []\n",
    "def model_validation(model,xtrain,ytrain,xtest,ytest):\n",
    "    m = model\n",
    "    m.fit(xtrain,ytrain)\n",
    "    hard = m.predict(xtest)\n",
    "    soft = m.predict_proba(xtest)[:,1]\n",
    "    print('Classification report \\n',classification_report(ytest,hard))\n",
    "    fpr,tpr,thres = roc_curve(ytest,soft)\n",
    "    plt.title(f'ROC_AUC:{round(roc_auc_score(ytest,soft),3)}')\n",
    "    plt.plot(fpr,tpr)\n",
    "    plt.plot([0,1],[0,1],ls='--',color='red')\n",
    "    plt.show()\n",
    "    inp = input('Do you want to add this to the scorecard? Y/N')\n",
    "    if inp.lower() =='y':\n",
    "        global scorecard\n",
    "        mod.append(str(model))\n",
    "        acu.append(accuracy_score(ytest,hard))\n",
    "        pre.append(precision_score(ytest,hard))\n",
    "        f1.append(f1_score(ytest,hard))\n",
    "        rec.append(recall_score(ytest,hard))\n",
    "        ck.append(cohen_kappa_score(ytest,hard))\n",
    "        scorecard = pd.DataFrame({'Model':mod,\n",
    "                                'Accuracy':acu,\n",
    "                                'Precision':pre,\n",
    "                                'F1_Score':f1,\n",
    "                                'Recall':rec,\n",
    "                                'Cohen-Kappa':ck})\n",
    "    else:\n",
    "        return"
   ]
  },
  {
   "cell_type": "code",
   "execution_count": 36,
   "id": "7db8f8dc",
   "metadata": {},
   "outputs": [
    {
     "name": "stdout",
     "output_type": "stream",
     "text": [
      "Classification report \n",
      "               precision    recall  f1-score   support\n",
      "\n",
      "           0       0.92      0.99      0.95      9988\n",
      "           1       0.43      0.08      0.13       974\n",
      "\n",
      "    accuracy                           0.91     10962\n",
      "   macro avg       0.67      0.53      0.54     10962\n",
      "weighted avg       0.87      0.91      0.88     10962\n",
      "\n"
     ]
    },
    {
     "data": {
      "image/png": "[encoded data removed]",
      "text/plain": [
       "<Figure size 640x480 with 1 Axes>"
      ]
     },
     "metadata": {},
     "output_type": "display_data"
    },
    {
     "name": "stdout",
     "output_type": "stream",
     "text": [
      "Do you want to add this to the scorecard? Y/Ny\n"
     ]
    }
   ],
   "source": [
    "model_validation(LogisticRegression(),xtrain,ytrain,xtest,ytest)"
   ]
  },
  {
   "cell_type": "code",
   "execution_count": 37,
   "id": "33cc2f59",
   "metadata": {},
   "outputs": [
    {
     "data": {
      "text/html": [
       "<div>\n",
       "<style scoped>\n",
       "    .dataframe tbody tr th:only-of-type {\n",
       "        vertical-align: middle;\n",
       "    }\n",
       "\n",
       "    .dataframe tbody tr th {\n",
       "        vertical-align: top;\n",
       "    }\n",
       "\n",
       "    .dataframe thead th {\n",
       "        text-align: right;\n",
       "    }\n",
       "</style>\n",
       "<table border=\"1\" class=\"dataframe\">\n",
       "  <thead>\n",
       "    <tr style=\"text-align: right;\">\n",
       "      <th></th>\n",
       "      <th>Model</th>\n",
       "      <th>Accuracy</th>\n",
       "      <th>Precision</th>\n",
       "      <th>F1_Score</th>\n",
       "      <th>Recall</th>\n",
       "      <th>Cohen-Kappa</th>\n",
       "    </tr>\n",
       "  </thead>\n",
       "  <tbody>\n",
       "    <tr>\n",
       "      <th>0</th>\n",
       "      <td>LogisticRegression()</td>\n",
       "      <td>0.908958</td>\n",
       "      <td>0.431818</td>\n",
       "      <td>0.132174</td>\n",
       "      <td>0.078029</td>\n",
       "      <td>0.107912</td>\n",
       "    </tr>\n",
       "  </tbody>\n",
       "</table>\n",
       "</div>"
      ],
      "text/plain": [
       "                  Model  Accuracy  Precision  F1_Score    Recall  Cohen-Kappa\n",
       "0  LogisticRegression()  0.908958   0.431818  0.132174  0.078029     0.107912"
      ]
     },
     "execution_count": 37,
     "metadata": {},
     "output_type": "execute_result"
    }
   ],
   "source": [
    "scorecard"
   ]
  },
  {
   "cell_type": "code",
   "execution_count": null,
   "id": "aad3cef4",
   "metadata": {},
   "outputs": [],
   "source": []
  },
  {
   "cell_type": "markdown",
   "id": "13d29f0b",
   "metadata": {},
   "source": [
    "# Decision Tree"
   ]
  },
  {
   "cell_type": "code",
   "execution_count": 38,
   "id": "f6860b08",
   "metadata": {},
   "outputs": [],
   "source": [
    "gscv = GridSearchCV(estimator=DecisionTreeClassifier(),param_grid={'max_depth':[4,5,6]},cv=3,scoring='f1')"
   ]
  },
  {
   "cell_type": "code",
   "execution_count": 39,
   "id": "cf767710",
   "metadata": {},
   "outputs": [
    {
     "data": {
      "text/html": [
       "<style>#sk-container-id-1 {color: black;background-color: white;}#sk-container-id-1 pre{padding: 0;}#sk-container-id-1 div.sk-toggleable {background-color: white;}#sk-container-id-1 label.sk-toggleable__label {cursor: pointer;display: block;width: 100%;margin-bottom: 0;padding: 0.3em;box-sizing: border-box;text-align: center;}#sk-container-id-1 label.sk-toggleable__label-arrow:before {content: \"▸\";float: left;margin-right: 0.25em;color: #696969;}#sk-container-id-1 label.sk-toggleable__label-arrow:hover:before {color: black;}#sk-container-id-1 div.sk-estimator:hover label.sk-toggleable__label-arrow:before {color: black;}#sk-container-id-1 div.sk-toggleable__content {max-height: 0;max-width: 0;overflow: hidden;text-align: left;background-color: #f0f8ff;}#sk-container-id-1 div.sk-toggleable__content pre {margin: 0.2em;color: black;border-radius: 0.25em;background-color: #f0f8ff;}#sk-container-id-1 input.sk-toggleable__control:checked~div.sk-toggleable__content {max-height: 200px;max-width: 100%;overflow: auto;}#sk-container-id-1 input.sk-toggleable__control:checked~label.sk-toggleable__label-arrow:before {content: \"▾\";}#sk-container-id-1 div.sk-estimator input.sk-toggleable__control:checked~label.sk-toggleable__label {background-color: #d4ebff;}#sk-container-id-1 div.sk-label input.sk-toggleable__control:checked~label.sk-toggleable__label {background-color: #d4ebff;}#sk-container-id-1 input.sk-hidden--visually {border: 0;clip: rect(1px 1px 1px 1px);clip: rect(1px, 1px, 1px, 1px);height: 1px;margin: -1px;overflow: hidden;padding: 0;position: absolute;width: 1px;}#sk-container-id-1 div.sk-estimator {font-family: monospace;background-color: #f0f8ff;border: 1px dotted black;border-radius: 0.25em;box-sizing: border-box;margin-bottom: 0.5em;}#sk-container-id-1 div.sk-estimator:hover {background-color: #d4ebff;}#sk-container-id-1 div.sk-parallel-item::after {content: \"\";width: 100%;border-bottom: 1px solid gray;flex-grow: 1;}#sk-container-id-1 div.sk-label:hover label.sk-toggleable__label {background-color: #d4ebff;}#sk-container-id-1 div.sk-serial::before {content: \"\";position: absolute;border-left: 1px solid gray;box-sizing: border-box;top: 0;bottom: 0;left: 50%;z-index: 0;}#sk-container-id-1 div.sk-serial {display: flex;flex-direction: column;align-items: center;background-color: white;padding-right: 0.2em;padding-left: 0.2em;position: relative;}#sk-container-id-1 div.sk-item {position: relative;z-index: 1;}#sk-container-id-1 div.sk-parallel {display: flex;align-items: stretch;justify-content: center;background-color: white;position: relative;}#sk-container-id-1 div.sk-item::before, #sk-container-id-1 div.sk-parallel-item::before {content: \"\";position: absolute;border-left: 1px solid gray;box-sizing: border-box;top: 0;bottom: 0;left: 50%;z-index: -1;}#sk-container-id-1 div.sk-parallel-item {display: flex;flex-direction: column;z-index: 1;position: relative;background-color: white;}#sk-container-id-1 div.sk-parallel-item:first-child::after {align-self: flex-end;width: 50%;}#sk-container-id-1 div.sk-parallel-item:last-child::after {align-self: flex-start;width: 50%;}#sk-container-id-1 div.sk-parallel-item:only-child::after {width: 0;}#sk-container-id-1 div.sk-dashed-wrapped {border: 1px dashed gray;margin: 0 0.4em 0.5em 0.4em;box-sizing: border-box;padding-bottom: 0.4em;background-color: white;}#sk-container-id-1 div.sk-label label {font-family: monospace;font-weight: bold;display: inline-block;line-height: 1.2em;}#sk-container-id-1 div.sk-label-container {text-align: center;}#sk-container-id-1 div.sk-container {/* jupyter's `normalize.less` sets `[hidden] { display: none; }` but bootstrap.min.css set `[hidden] { display: none !important; }` so we also need the `!important` here to be able to override the default hidden behavior on the sphinx rendered scikit-learn.org. See: https://github.com/scikit-learn/scikit-learn/issues/21755 */display: inline-block !important;position: relative;}#sk-container-id-1 div.sk-text-repr-fallback {display: none;}</style><div id=\"sk-container-id-1\" class=\"sk-top-container\"><div class=\"sk-text-repr-fallback\"><pre>GridSearchCV(cv=3, estimator=DecisionTreeClassifier(),\n",
       "             param_grid={&#x27;max_depth&#x27;: [4, 5, 6]}, scoring=&#x27;f1&#x27;)</pre><b>In a Jupyter environment, please rerun this cell to show the HTML representation or trust the notebook. <br />On GitHub, the HTML representation is unable to render, please try loading this page with nbviewer.org.</b></div><div class=\"sk-container\" hidden><div class=\"sk-item sk-dashed-wrapped\"><div class=\"sk-label-container\"><div class=\"sk-label sk-toggleable\"><input class=\"sk-toggleable__control sk-hidden--visually\" id=\"sk-estimator-id-1\" type=\"checkbox\" ><label for=\"sk-estimator-id-1\" class=\"sk-toggleable__label sk-toggleable__label-arrow\">GridSearchCV</label><div class=\"sk-toggleable__content\"><pre>GridSearchCV(cv=3, estimator=DecisionTreeClassifier(),\n",
       "             param_grid={&#x27;max_depth&#x27;: [4, 5, 6]}, scoring=&#x27;f1&#x27;)</pre></div></div></div><div class=\"sk-parallel\"><div class=\"sk-parallel-item\"><div class=\"sk-item\"><div class=\"sk-label-container\"><div class=\"sk-label sk-toggleable\"><input class=\"sk-toggleable__control sk-hidden--visually\" id=\"sk-estimator-id-2\" type=\"checkbox\" ><label for=\"sk-estimator-id-2\" class=\"sk-toggleable__label sk-toggleable__label-arrow\">estimator: DecisionTreeClassifier</label><div class=\"sk-toggleable__content\"><pre>DecisionTreeClassifier()</pre></div></div></div><div class=\"sk-serial\"><div class=\"sk-item\"><div class=\"sk-estimator sk-toggleable\"><input class=\"sk-toggleable__control sk-hidden--visually\" id=\"sk-estimator-id-3\" type=\"checkbox\" ><label for=\"sk-estimator-id-3\" class=\"sk-toggleable__label sk-toggleable__label-arrow\">DecisionTreeClassifier</label><div class=\"sk-toggleable__content\"><pre>DecisionTreeClassifier()</pre></div></div></div></div></div></div></div></div></div></div>"
      ],
      "text/plain": [
       "GridSearchCV(cv=3, estimator=DecisionTreeClassifier(),\n",
       "             param_grid={'max_depth': [4, 5, 6]}, scoring='f1')"
      ]
     },
     "execution_count": 39,
     "metadata": {},
     "output_type": "execute_result"
    }
   ],
   "source": [
    "gscv.fit(xtrain,ytrain)"
   ]
  },
  {
   "cell_type": "code",
   "execution_count": 40,
   "id": "845ce2d9",
   "metadata": {},
   "outputs": [
    {
     "data": {
      "text/plain": [
       "0.25302640624612593"
      ]
     },
     "execution_count": 40,
     "metadata": {},
     "output_type": "execute_result"
    }
   ],
   "source": [
    "gscv.best_score_"
   ]
  },
  {
   "cell_type": "code",
   "execution_count": 41,
   "id": "6e1253ed",
   "metadata": {},
   "outputs": [
    {
     "data": {
      "text/plain": [
       "{'max_depth': 6}"
      ]
     },
     "execution_count": 41,
     "metadata": {},
     "output_type": "execute_result"
    }
   ],
   "source": [
    "gscv.best_params_"
   ]
  },
  {
   "cell_type": "code",
   "execution_count": 42,
   "id": "9a7b9003",
   "metadata": {},
   "outputs": [
    {
     "name": "stdout",
     "output_type": "stream",
     "text": [
      "Classification report \n",
      "               precision    recall  f1-score   support\n",
      "\n",
      "           0       0.92      1.00      0.96      9988\n",
      "           1       0.93      0.15      0.26       974\n",
      "\n",
      "    accuracy                           0.92     10962\n",
      "   macro avg       0.93      0.57      0.61     10962\n",
      "weighted avg       0.92      0.92      0.90     10962\n",
      "\n"
     ]
    },
    {
     "data": {
      "image/png": "[encoded data removed]",
      "text/plain": [
       "<Figure size 640x480 with 1 Axes>"
      ]
     },
     "metadata": {},
     "output_type": "display_data"
    },
    {
     "name": "stdout",
     "output_type": "stream",
     "text": [
      "Do you want to add this to the scorecard? Y/Ny\n"
     ]
    }
   ],
   "source": [
    "model_validation(DecisionTreeClassifier(**gscv.best_params_),xtrain,ytrain,xtest,ytest)"
   ]
  },
  {
   "cell_type": "code",
   "execution_count": 43,
   "id": "f19812cc",
   "metadata": {},
   "outputs": [
    {
     "data": {
      "text/html": [
       "<div>\n",
       "<style scoped>\n",
       "    .dataframe tbody tr th:only-of-type {\n",
       "        vertical-align: middle;\n",
       "    }\n",
       "\n",
       "    .dataframe tbody tr th {\n",
       "        vertical-align: top;\n",
       "    }\n",
       "\n",
       "    .dataframe thead th {\n",
       "        text-align: right;\n",
       "    }\n",
       "</style>\n",
       "<table border=\"1\" class=\"dataframe\">\n",
       "  <thead>\n",
       "    <tr style=\"text-align: right;\">\n",
       "      <th></th>\n",
       "      <th>Model</th>\n",
       "      <th>Accuracy</th>\n",
       "      <th>Precision</th>\n",
       "      <th>F1_Score</th>\n",
       "      <th>Recall</th>\n",
       "      <th>Cohen-Kappa</th>\n",
       "    </tr>\n",
       "  </thead>\n",
       "  <tbody>\n",
       "    <tr>\n",
       "      <th>0</th>\n",
       "      <td>LogisticRegression()</td>\n",
       "      <td>0.908958</td>\n",
       "      <td>0.431818</td>\n",
       "      <td>0.132174</td>\n",
       "      <td>0.078029</td>\n",
       "      <td>0.107912</td>\n",
       "    </tr>\n",
       "    <tr>\n",
       "      <th>1</th>\n",
       "      <td>DecisionTreeClassifier(max_depth=6)</td>\n",
       "      <td>0.923554</td>\n",
       "      <td>0.930380</td>\n",
       "      <td>0.259717</td>\n",
       "      <td>0.150924</td>\n",
       "      <td>0.240889</td>\n",
       "    </tr>\n",
       "  </tbody>\n",
       "</table>\n",
       "</div>"
      ],
      "text/plain": [
       "                                 Model  Accuracy  Precision  F1_Score  \\\n",
       "0                 LogisticRegression()  0.908958   0.431818  0.132174   \n",
       "1  DecisionTreeClassifier(max_depth=6)  0.923554   0.930380  0.259717   \n",
       "\n",
       "     Recall  Cohen-Kappa  \n",
       "0  0.078029     0.107912  \n",
       "1  0.150924     0.240889  "
      ]
     },
     "execution_count": 43,
     "metadata": {},
     "output_type": "execute_result"
    }
   ],
   "source": [
    "scorecard"
   ]
  },
  {
   "cell_type": "code",
   "execution_count": null,
   "id": "7d9db540",
   "metadata": {},
   "outputs": [],
   "source": []
  },
  {
   "cell_type": "markdown",
   "id": "e3fffae5",
   "metadata": {},
   "source": [
    "# Random Forest"
   ]
  },
  {
   "cell_type": "code",
   "execution_count": 44,
   "id": "5de6ffce",
   "metadata": {},
   "outputs": [
    {
     "name": "stdout",
     "output_type": "stream",
     "text": [
      "Classification report \n",
      "               precision    recall  f1-score   support\n",
      "\n",
      "           0       0.92      1.00      0.96      9988\n",
      "           1       0.95      0.15      0.25       974\n",
      "\n",
      "    accuracy                           0.92     10962\n",
      "   macro avg       0.94      0.57      0.61     10962\n",
      "weighted avg       0.93      0.92      0.90     10962\n",
      "\n"
     ]
    },
    {
     "data": {
      "image/png": "[encoded data removed]",
      "text/plain": [
       "<Figure size 640x480 with 1 Axes>"
      ]
     },
     "metadata": {},
     "output_type": "display_data"
    },
    {
     "name": "stdout",
     "output_type": "stream",
     "text": [
      "Do you want to add this to the scorecard? Y/Ny\n"
     ]
    }
   ],
   "source": [
    "model_validation(RandomForestClassifier(max_depth=8,n_estimators=120),xtrain,ytrain,xtest,ytest)"
   ]
  },
  {
   "cell_type": "code",
   "execution_count": 45,
   "id": "37c5cf9f",
   "metadata": {},
   "outputs": [
    {
     "data": {
      "text/html": [
       "<div>\n",
       "<style scoped>\n",
       "    .dataframe tbody tr th:only-of-type {\n",
       "        vertical-align: middle;\n",
       "    }\n",
       "\n",
       "    .dataframe tbody tr th {\n",
       "        vertical-align: top;\n",
       "    }\n",
       "\n",
       "    .dataframe thead th {\n",
       "        text-align: right;\n",
       "    }\n",
       "</style>\n",
       "<table border=\"1\" class=\"dataframe\">\n",
       "  <thead>\n",
       "    <tr style=\"text-align: right;\">\n",
       "      <th></th>\n",
       "      <th>Model</th>\n",
       "      <th>Accuracy</th>\n",
       "      <th>Precision</th>\n",
       "      <th>F1_Score</th>\n",
       "      <th>Recall</th>\n",
       "      <th>Cohen-Kappa</th>\n",
       "    </tr>\n",
       "  </thead>\n",
       "  <tbody>\n",
       "    <tr>\n",
       "      <th>0</th>\n",
       "      <td>LogisticRegression()</td>\n",
       "      <td>0.908958</td>\n",
       "      <td>0.431818</td>\n",
       "      <td>0.132174</td>\n",
       "      <td>0.078029</td>\n",
       "      <td>0.107912</td>\n",
       "    </tr>\n",
       "    <tr>\n",
       "      <th>1</th>\n",
       "      <td>DecisionTreeClassifier(max_depth=6)</td>\n",
       "      <td>0.923554</td>\n",
       "      <td>0.930380</td>\n",
       "      <td>0.259717</td>\n",
       "      <td>0.150924</td>\n",
       "      <td>0.240889</td>\n",
       "    </tr>\n",
       "    <tr>\n",
       "      <th>2</th>\n",
       "      <td>RandomForestClassifier(max_depth=8, n_estimato...</td>\n",
       "      <td>0.923554</td>\n",
       "      <td>0.953333</td>\n",
       "      <td>0.254448</td>\n",
       "      <td>0.146817</td>\n",
       "      <td>0.236338</td>\n",
       "    </tr>\n",
       "  </tbody>\n",
       "</table>\n",
       "</div>"
      ],
      "text/plain": [
       "                                               Model  Accuracy  Precision  \\\n",
       "0                               LogisticRegression()  0.908958   0.431818   \n",
       "1                DecisionTreeClassifier(max_depth=6)  0.923554   0.930380   \n",
       "2  RandomForestClassifier(max_depth=8, n_estimato...  0.923554   0.953333   \n",
       "\n",
       "   F1_Score    Recall  Cohen-Kappa  \n",
       "0  0.132174  0.078029     0.107912  \n",
       "1  0.259717  0.150924     0.240889  \n",
       "2  0.254448  0.146817     0.236338  "
      ]
     },
     "execution_count": 45,
     "metadata": {},
     "output_type": "execute_result"
    }
   ],
   "source": [
    "scorecard"
   ]
  },
  {
   "cell_type": "markdown",
   "id": "9b3fb9f6",
   "metadata": {},
   "source": [
    "# ADA Boost"
   ]
  },
  {
   "cell_type": "code",
   "execution_count": 46,
   "id": "f14ff379",
   "metadata": {},
   "outputs": [
    {
     "name": "stdout",
     "output_type": "stream",
     "text": [
      "Classification report \n",
      "               precision    recall  f1-score   support\n",
      "\n",
      "           0       0.94      0.99      0.96      9988\n",
      "           1       0.76      0.36      0.49       974\n",
      "\n",
      "    accuracy                           0.93     10962\n",
      "   macro avg       0.85      0.67      0.73     10962\n",
      "weighted avg       0.92      0.93      0.92     10962\n",
      "\n"
     ]
    },
    {
     "data": {
      "image/png": "[encoded data removed]",
      "text/plain": [
       "<Figure size 640x480 with 1 Axes>"
      ]
     },
     "metadata": {},
     "output_type": "display_data"
    },
    {
     "name": "stdout",
     "output_type": "stream",
     "text": [
      "Do you want to add this to the scorecard? Y/Ny\n"
     ]
    }
   ],
   "source": [
    "model_validation(AdaBoostClassifier(learning_rate=0.5,n_estimators=120,base_estimator=DecisionTreeClassifier(max_depth=5)),xtrain,ytrain,xtest,ytest)"
   ]
  },
  {
   "cell_type": "code",
   "execution_count": 47,
   "id": "21d4f856",
   "metadata": {},
   "outputs": [
    {
     "data": {
      "text/html": [
       "<div>\n",
       "<style scoped>\n",
       "    .dataframe tbody tr th:only-of-type {\n",
       "        vertical-align: middle;\n",
       "    }\n",
       "\n",
       "    .dataframe tbody tr th {\n",
       "        vertical-align: top;\n",
       "    }\n",
       "\n",
       "    .dataframe thead th {\n",
       "        text-align: right;\n",
       "    }\n",
       "</style>\n",
       "<table border=\"1\" class=\"dataframe\">\n",
       "  <thead>\n",
       "    <tr style=\"text-align: right;\">\n",
       "      <th></th>\n",
       "      <th>Model</th>\n",
       "      <th>Accuracy</th>\n",
       "      <th>Precision</th>\n",
       "      <th>F1_Score</th>\n",
       "      <th>Recall</th>\n",
       "      <th>Cohen-Kappa</th>\n",
       "    </tr>\n",
       "  </thead>\n",
       "  <tbody>\n",
       "    <tr>\n",
       "      <th>0</th>\n",
       "      <td>LogisticRegression()</td>\n",
       "      <td>0.908958</td>\n",
       "      <td>0.431818</td>\n",
       "      <td>0.132174</td>\n",
       "      <td>0.078029</td>\n",
       "      <td>0.107912</td>\n",
       "    </tr>\n",
       "    <tr>\n",
       "      <th>1</th>\n",
       "      <td>DecisionTreeClassifier(max_depth=6)</td>\n",
       "      <td>0.923554</td>\n",
       "      <td>0.930380</td>\n",
       "      <td>0.259717</td>\n",
       "      <td>0.150924</td>\n",
       "      <td>0.240889</td>\n",
       "    </tr>\n",
       "    <tr>\n",
       "      <th>2</th>\n",
       "      <td>RandomForestClassifier(max_depth=8, n_estimato...</td>\n",
       "      <td>0.923554</td>\n",
       "      <td>0.953333</td>\n",
       "      <td>0.254448</td>\n",
       "      <td>0.146817</td>\n",
       "      <td>0.236338</td>\n",
       "    </tr>\n",
       "    <tr>\n",
       "      <th>3</th>\n",
       "      <td>AdaBoostClassifier(base_estimator=DecisionTree...</td>\n",
       "      <td>0.932950</td>\n",
       "      <td>0.758099</td>\n",
       "      <td>0.488518</td>\n",
       "      <td>0.360370</td>\n",
       "      <td>0.457454</td>\n",
       "    </tr>\n",
       "  </tbody>\n",
       "</table>\n",
       "</div>"
      ],
      "text/plain": [
       "                                               Model  Accuracy  Precision  \\\n",
       "0                               LogisticRegression()  0.908958   0.431818   \n",
       "1                DecisionTreeClassifier(max_depth=6)  0.923554   0.930380   \n",
       "2  RandomForestClassifier(max_depth=8, n_estimato...  0.923554   0.953333   \n",
       "3  AdaBoostClassifier(base_estimator=DecisionTree...  0.932950   0.758099   \n",
       "\n",
       "   F1_Score    Recall  Cohen-Kappa  \n",
       "0  0.132174  0.078029     0.107912  \n",
       "1  0.259717  0.150924     0.240889  \n",
       "2  0.254448  0.146817     0.236338  \n",
       "3  0.488518  0.360370     0.457454  "
      ]
     },
     "execution_count": 47,
     "metadata": {},
     "output_type": "execute_result"
    }
   ],
   "source": [
    "scorecard"
   ]
  },
  {
   "cell_type": "markdown",
   "id": "4ba58f04",
   "metadata": {},
   "source": [
    "# Gradient Boosting"
   ]
  },
  {
   "cell_type": "code",
   "execution_count": 48,
   "id": "3fdf1148",
   "metadata": {},
   "outputs": [
    {
     "name": "stdout",
     "output_type": "stream",
     "text": [
      "Classification report \n",
      "               precision    recall  f1-score   support\n",
      "\n",
      "           0       0.94      1.00      0.97      9988\n",
      "           1       0.92      0.36      0.52       974\n",
      "\n",
      "    accuracy                           0.94     10962\n",
      "   macro avg       0.93      0.68      0.74     10962\n",
      "weighted avg       0.94      0.94      0.93     10962\n",
      "\n"
     ]
    },
    {
     "data": {
      "image/png": "[encoded data removed]",
      "text/plain": [
       "<Figure size 640x480 with 1 Axes>"
      ]
     },
     "metadata": {},
     "output_type": "display_data"
    },
    {
     "name": "stdout",
     "output_type": "stream",
     "text": [
      "Do you want to add this to the scorecard? Y/Ny\n"
     ]
    }
   ],
   "source": [
    "model_validation(GradientBoostingClassifier(max_depth=6,n_estimators=150,learning_rate=0.1),xtrain,ytrain,xtest,ytest)"
   ]
  },
  {
   "cell_type": "code",
   "execution_count": 49,
   "id": "8aeec0b2",
   "metadata": {},
   "outputs": [
    {
     "data": {
      "text/html": [
       "<div>\n",
       "<style scoped>\n",
       "    .dataframe tbody tr th:only-of-type {\n",
       "        vertical-align: middle;\n",
       "    }\n",
       "\n",
       "    .dataframe tbody tr th {\n",
       "        vertical-align: top;\n",
       "    }\n",
       "\n",
       "    .dataframe thead th {\n",
       "        text-align: right;\n",
       "    }\n",
       "</style>\n",
       "<table border=\"1\" class=\"dataframe\">\n",
       "  <thead>\n",
       "    <tr style=\"text-align: right;\">\n",
       "      <th></th>\n",
       "      <th>Model</th>\n",
       "      <th>Accuracy</th>\n",
       "      <th>Precision</th>\n",
       "      <th>F1_Score</th>\n",
       "      <th>Recall</th>\n",
       "      <th>Cohen-Kappa</th>\n",
       "    </tr>\n",
       "  </thead>\n",
       "  <tbody>\n",
       "    <tr>\n",
       "      <th>0</th>\n",
       "      <td>LogisticRegression()</td>\n",
       "      <td>0.908958</td>\n",
       "      <td>0.431818</td>\n",
       "      <td>0.132174</td>\n",
       "      <td>0.078029</td>\n",
       "      <td>0.107912</td>\n",
       "    </tr>\n",
       "    <tr>\n",
       "      <th>1</th>\n",
       "      <td>DecisionTreeClassifier(max_depth=6)</td>\n",
       "      <td>0.923554</td>\n",
       "      <td>0.930380</td>\n",
       "      <td>0.259717</td>\n",
       "      <td>0.150924</td>\n",
       "      <td>0.240889</td>\n",
       "    </tr>\n",
       "    <tr>\n",
       "      <th>2</th>\n",
       "      <td>RandomForestClassifier(max_depth=8, n_estimato...</td>\n",
       "      <td>0.923554</td>\n",
       "      <td>0.953333</td>\n",
       "      <td>0.254448</td>\n",
       "      <td>0.146817</td>\n",
       "      <td>0.236338</td>\n",
       "    </tr>\n",
       "    <tr>\n",
       "      <th>3</th>\n",
       "      <td>AdaBoostClassifier(base_estimator=DecisionTree...</td>\n",
       "      <td>0.932950</td>\n",
       "      <td>0.758099</td>\n",
       "      <td>0.488518</td>\n",
       "      <td>0.360370</td>\n",
       "      <td>0.457454</td>\n",
       "    </tr>\n",
       "    <tr>\n",
       "      <th>4</th>\n",
       "      <td>GradientBoostingClassifier(max_depth=6, n_esti...</td>\n",
       "      <td>0.940431</td>\n",
       "      <td>0.919060</td>\n",
       "      <td>0.518791</td>\n",
       "      <td>0.361396</td>\n",
       "      <td>0.493382</td>\n",
       "    </tr>\n",
       "  </tbody>\n",
       "</table>\n",
       "</div>"
      ],
      "text/plain": [
       "                                               Model  Accuracy  Precision  \\\n",
       "0                               LogisticRegression()  0.908958   0.431818   \n",
       "1                DecisionTreeClassifier(max_depth=6)  0.923554   0.930380   \n",
       "2  RandomForestClassifier(max_depth=8, n_estimato...  0.923554   0.953333   \n",
       "3  AdaBoostClassifier(base_estimator=DecisionTree...  0.932950   0.758099   \n",
       "4  GradientBoostingClassifier(max_depth=6, n_esti...  0.940431   0.919060   \n",
       "\n",
       "   F1_Score    Recall  Cohen-Kappa  \n",
       "0  0.132174  0.078029     0.107912  \n",
       "1  0.259717  0.150924     0.240889  \n",
       "2  0.254448  0.146817     0.236338  \n",
       "3  0.488518  0.360370     0.457454  \n",
       "4  0.518791  0.361396     0.493382  "
      ]
     },
     "execution_count": 49,
     "metadata": {},
     "output_type": "execute_result"
    }
   ],
   "source": [
    "scorecard"
   ]
  },
  {
   "cell_type": "markdown",
   "id": "133622d3",
   "metadata": {},
   "source": [
    "# XGBoost"
   ]
  },
  {
   "cell_type": "code",
   "execution_count": 50,
   "id": "7cbf1c56",
   "metadata": {},
   "outputs": [
    {
     "name": "stdout",
     "output_type": "stream",
     "text": [
      "Classification report \n",
      "               precision    recall  f1-score   support\n",
      "\n",
      "           0       0.94      1.00      0.97      9988\n",
      "           1       0.88      0.37      0.52       974\n",
      "\n",
      "    accuracy                           0.94     10962\n",
      "   macro avg       0.91      0.68      0.74     10962\n",
      "weighted avg       0.94      0.94      0.93     10962\n",
      "\n"
     ]
    },
    {
     "data": {
      "image/png": "[encoded data removed]",
      "text/plain": [
       "<Figure size 640x480 with 1 Axes>"
      ]
     },
     "metadata": {},
     "output_type": "display_data"
    },
    {
     "name": "stdout",
     "output_type": "stream",
     "text": [
      "Do you want to add this to the scorecard? Y/Ny\n"
     ]
    }
   ],
   "source": [
    "model_validation(XGBClassifier(max_depth=5,n_estimators=120,learning_rate=0.5),xtrain,ytrain,xtest,ytest)"
   ]
  },
  {
   "cell_type": "code",
   "execution_count": 51,
   "id": "6b94fcfc",
   "metadata": {},
   "outputs": [
    {
     "data": {
      "text/html": [
       "<div>\n",
       "<style scoped>\n",
       "    .dataframe tbody tr th:only-of-type {\n",
       "        vertical-align: middle;\n",
       "    }\n",
       "\n",
       "    .dataframe tbody tr th {\n",
       "        vertical-align: top;\n",
       "    }\n",
       "\n",
       "    .dataframe thead th {\n",
       "        text-align: right;\n",
       "    }\n",
       "</style>\n",
       "<table border=\"1\" class=\"dataframe\">\n",
       "  <thead>\n",
       "    <tr style=\"text-align: right;\">\n",
       "      <th></th>\n",
       "      <th>Model</th>\n",
       "      <th>Accuracy</th>\n",
       "      <th>Precision</th>\n",
       "      <th>F1_Score</th>\n",
       "      <th>Recall</th>\n",
       "      <th>Cohen-Kappa</th>\n",
       "    </tr>\n",
       "  </thead>\n",
       "  <tbody>\n",
       "    <tr>\n",
       "      <th>0</th>\n",
       "      <td>LogisticRegression()</td>\n",
       "      <td>0.908958</td>\n",
       "      <td>0.431818</td>\n",
       "      <td>0.132174</td>\n",
       "      <td>0.078029</td>\n",
       "      <td>0.107912</td>\n",
       "    </tr>\n",
       "    <tr>\n",
       "      <th>1</th>\n",
       "      <td>DecisionTreeClassifier(max_depth=6)</td>\n",
       "      <td>0.923554</td>\n",
       "      <td>0.930380</td>\n",
       "      <td>0.259717</td>\n",
       "      <td>0.150924</td>\n",
       "      <td>0.240889</td>\n",
       "    </tr>\n",
       "    <tr>\n",
       "      <th>2</th>\n",
       "      <td>RandomForestClassifier(max_depth=8, n_estimato...</td>\n",
       "      <td>0.923554</td>\n",
       "      <td>0.953333</td>\n",
       "      <td>0.254448</td>\n",
       "      <td>0.146817</td>\n",
       "      <td>0.236338</td>\n",
       "    </tr>\n",
       "    <tr>\n",
       "      <th>3</th>\n",
       "      <td>AdaBoostClassifier(base_estimator=DecisionTree...</td>\n",
       "      <td>0.932950</td>\n",
       "      <td>0.758099</td>\n",
       "      <td>0.488518</td>\n",
       "      <td>0.360370</td>\n",
       "      <td>0.457454</td>\n",
       "    </tr>\n",
       "    <tr>\n",
       "      <th>4</th>\n",
       "      <td>GradientBoostingClassifier(max_depth=6, n_esti...</td>\n",
       "      <td>0.940431</td>\n",
       "      <td>0.919060</td>\n",
       "      <td>0.518791</td>\n",
       "      <td>0.361396</td>\n",
       "      <td>0.493382</td>\n",
       "    </tr>\n",
       "    <tr>\n",
       "      <th>5</th>\n",
       "      <td>XGBClassifier(base_score=None, booster=None, c...</td>\n",
       "      <td>0.939427</td>\n",
       "      <td>0.879902</td>\n",
       "      <td>0.519537</td>\n",
       "      <td>0.368583</td>\n",
       "      <td>0.492935</td>\n",
       "    </tr>\n",
       "  </tbody>\n",
       "</table>\n",
       "</div>"
      ],
      "text/plain": [
       "                                               Model  Accuracy  Precision  \\\n",
       "0                               LogisticRegression()  0.908958   0.431818   \n",
       "1                DecisionTreeClassifier(max_depth=6)  0.923554   0.930380   \n",
       "2  RandomForestClassifier(max_depth=8, n_estimato...  0.923554   0.953333   \n",
       "3  AdaBoostClassifier(base_estimator=DecisionTree...  0.932950   0.758099   \n",
       "4  GradientBoostingClassifier(max_depth=6, n_esti...  0.940431   0.919060   \n",
       "5  XGBClassifier(base_score=None, booster=None, c...  0.939427   0.879902   \n",
       "\n",
       "   F1_Score    Recall  Cohen-Kappa  \n",
       "0  0.132174  0.078029     0.107912  \n",
       "1  0.259717  0.150924     0.240889  \n",
       "2  0.254448  0.146817     0.236338  \n",
       "3  0.488518  0.360370     0.457454  \n",
       "4  0.518791  0.361396     0.493382  \n",
       "5  0.519537  0.368583     0.492935  "
      ]
     },
     "execution_count": 51,
     "metadata": {},
     "output_type": "execute_result"
    }
   ],
   "source": [
    "scorecard"
   ]
  },
  {
   "cell_type": "markdown",
   "id": "c4a140cb",
   "metadata": {},
   "source": [
    "# Voting"
   ]
  },
  {
   "cell_type": "code",
   "execution_count": 52,
   "id": "ef689b54",
   "metadata": {},
   "outputs": [],
   "source": [
    "base_learners = [('DT_4',DecisionTreeClassifier(max_depth=6)),\n",
    "                 ('DT_6',DecisionTreeClassifier(max_depth=5)),\n",
    "                ('RF',RandomForestClassifier(n_estimators=120,max_depth=8)),\n",
    "                ('XGB',XGBClassifier(max_depth=5,n_estimators=120))]"
   ]
  },
  {
   "cell_type": "code",
   "execution_count": 53,
   "id": "008d9411",
   "metadata": {},
   "outputs": [
    {
     "name": "stdout",
     "output_type": "stream",
     "text": [
      "Classification report \n",
      "               precision    recall  f1-score   support\n",
      "\n",
      "           0       0.93      1.00      0.96      9988\n",
      "           1       0.97      0.18      0.30       974\n",
      "\n",
      "    accuracy                           0.93     10962\n",
      "   macro avg       0.95      0.59      0.63     10962\n",
      "weighted avg       0.93      0.93      0.90     10962\n",
      "\n"
     ]
    },
    {
     "data": {
      "image/png": "[encoded data removed]",
      "text/plain": [
       "<Figure size 640x480 with 1 Axes>"
      ]
     },
     "metadata": {},
     "output_type": "display_data"
    },
    {
     "name": "stdout",
     "output_type": "stream",
     "text": [
      "Do you want to add this to the scorecard? Y/Ny\n"
     ]
    }
   ],
   "source": [
    "model_validation(VotingClassifier(estimators=base_learners,voting='soft'),xtrain,ytrain,xtest,ytest)"
   ]
  },
  {
   "cell_type": "code",
   "execution_count": 54,
   "id": "cbb6ab33",
   "metadata": {},
   "outputs": [
    {
     "data": {
      "text/html": [
       "<div>\n",
       "<style scoped>\n",
       "    .dataframe tbody tr th:only-of-type {\n",
       "        vertical-align: middle;\n",
       "    }\n",
       "\n",
       "    .dataframe tbody tr th {\n",
       "        vertical-align: top;\n",
       "    }\n",
       "\n",
       "    .dataframe thead th {\n",
       "        text-align: right;\n",
       "    }\n",
       "</style>\n",
       "<table border=\"1\" class=\"dataframe\">\n",
       "  <thead>\n",
       "    <tr style=\"text-align: right;\">\n",
       "      <th></th>\n",
       "      <th>Model</th>\n",
       "      <th>Accuracy</th>\n",
       "      <th>Precision</th>\n",
       "      <th>F1_Score</th>\n",
       "      <th>Recall</th>\n",
       "      <th>Cohen-Kappa</th>\n",
       "    </tr>\n",
       "  </thead>\n",
       "  <tbody>\n",
       "    <tr>\n",
       "      <th>0</th>\n",
       "      <td>LogisticRegression()</td>\n",
       "      <td>0.908958</td>\n",
       "      <td>0.431818</td>\n",
       "      <td>0.132174</td>\n",
       "      <td>0.078029</td>\n",
       "      <td>0.107912</td>\n",
       "    </tr>\n",
       "    <tr>\n",
       "      <th>1</th>\n",
       "      <td>DecisionTreeClassifier(max_depth=6)</td>\n",
       "      <td>0.923554</td>\n",
       "      <td>0.930380</td>\n",
       "      <td>0.259717</td>\n",
       "      <td>0.150924</td>\n",
       "      <td>0.240889</td>\n",
       "    </tr>\n",
       "    <tr>\n",
       "      <th>2</th>\n",
       "      <td>RandomForestClassifier(max_depth=8, n_estimato...</td>\n",
       "      <td>0.923554</td>\n",
       "      <td>0.953333</td>\n",
       "      <td>0.254448</td>\n",
       "      <td>0.146817</td>\n",
       "      <td>0.236338</td>\n",
       "    </tr>\n",
       "    <tr>\n",
       "      <th>3</th>\n",
       "      <td>AdaBoostClassifier(base_estimator=DecisionTree...</td>\n",
       "      <td>0.932950</td>\n",
       "      <td>0.758099</td>\n",
       "      <td>0.488518</td>\n",
       "      <td>0.360370</td>\n",
       "      <td>0.457454</td>\n",
       "    </tr>\n",
       "    <tr>\n",
       "      <th>4</th>\n",
       "      <td>GradientBoostingClassifier(max_depth=6, n_esti...</td>\n",
       "      <td>0.940431</td>\n",
       "      <td>0.919060</td>\n",
       "      <td>0.518791</td>\n",
       "      <td>0.361396</td>\n",
       "      <td>0.493382</td>\n",
       "    </tr>\n",
       "    <tr>\n",
       "      <th>5</th>\n",
       "      <td>XGBClassifier(base_score=None, booster=None, c...</td>\n",
       "      <td>0.939427</td>\n",
       "      <td>0.879902</td>\n",
       "      <td>0.519537</td>\n",
       "      <td>0.368583</td>\n",
       "      <td>0.492935</td>\n",
       "    </tr>\n",
       "    <tr>\n",
       "      <th>6</th>\n",
       "      <td>VotingClassifier(estimators=[('DT_4', Decision...</td>\n",
       "      <td>0.926747</td>\n",
       "      <td>0.972376</td>\n",
       "      <td>0.304762</td>\n",
       "      <td>0.180698</td>\n",
       "      <td>0.284846</td>\n",
       "    </tr>\n",
       "  </tbody>\n",
       "</table>\n",
       "</div>"
      ],
      "text/plain": [
       "                                               Model  Accuracy  Precision  \\\n",
       "0                               LogisticRegression()  0.908958   0.431818   \n",
       "1                DecisionTreeClassifier(max_depth=6)  0.923554   0.930380   \n",
       "2  RandomForestClassifier(max_depth=8, n_estimato...  0.923554   0.953333   \n",
       "3  AdaBoostClassifier(base_estimator=DecisionTree...  0.932950   0.758099   \n",
       "4  GradientBoostingClassifier(max_depth=6, n_esti...  0.940431   0.919060   \n",
       "5  XGBClassifier(base_score=None, booster=None, c...  0.939427   0.879902   \n",
       "6  VotingClassifier(estimators=[('DT_4', Decision...  0.926747   0.972376   \n",
       "\n",
       "   F1_Score    Recall  Cohen-Kappa  \n",
       "0  0.132174  0.078029     0.107912  \n",
       "1  0.259717  0.150924     0.240889  \n",
       "2  0.254448  0.146817     0.236338  \n",
       "3  0.488518  0.360370     0.457454  \n",
       "4  0.518791  0.361396     0.493382  \n",
       "5  0.519537  0.368583     0.492935  \n",
       "6  0.304762  0.180698     0.284846  "
      ]
     },
     "execution_count": 54,
     "metadata": {},
     "output_type": "execute_result"
    }
   ],
   "source": [
    "scorecard"
   ]
  },
  {
   "cell_type": "markdown",
   "id": "884c6060",
   "metadata": {},
   "source": [
    "# Stacking"
   ]
  },
  {
   "cell_type": "code",
   "execution_count": 55,
   "id": "eb52cfd2",
   "metadata": {},
   "outputs": [
    {
     "name": "stdout",
     "output_type": "stream",
     "text": [
      "Classification report \n",
      "               precision    recall  f1-score   support\n",
      "\n",
      "           0       0.94      0.99      0.97      9988\n",
      "           1       0.84      0.38      0.52       974\n",
      "\n",
      "    accuracy                           0.94     10962\n",
      "   macro avg       0.89      0.68      0.74     10962\n",
      "weighted avg       0.93      0.94      0.93     10962\n",
      "\n"
     ]
    },
    {
     "data": {
      "image/png": "[encoded data removed]",
      "text/plain": [
       "<Figure size 640x480 with 1 Axes>"
      ]
     },
     "metadata": {},
     "output_type": "display_data"
    },
    {
     "name": "stdout",
     "output_type": "stream",
     "text": [
      "Do you want to add this to the scorecard? Y/Ny\n"
     ]
    }
   ],
   "source": [
    "model_validation(StackingClassifier(estimators=base_learners),xtrain,ytrain,xtest,ytest)"
   ]
  },
  {
   "cell_type": "code",
   "execution_count": 56,
   "id": "c11bf549",
   "metadata": {},
   "outputs": [
    {
     "data": {
      "text/html": [
       "<div>\n",
       "<style scoped>\n",
       "    .dataframe tbody tr th:only-of-type {\n",
       "        vertical-align: middle;\n",
       "    }\n",
       "\n",
       "    .dataframe tbody tr th {\n",
       "        vertical-align: top;\n",
       "    }\n",
       "\n",
       "    .dataframe thead th {\n",
       "        text-align: right;\n",
       "    }\n",
       "</style>\n",
       "<table border=\"1\" class=\"dataframe\">\n",
       "  <thead>\n",
       "    <tr style=\"text-align: right;\">\n",
       "      <th></th>\n",
       "      <th>Model</th>\n",
       "      <th>Accuracy</th>\n",
       "      <th>Precision</th>\n",
       "      <th>F1_Score</th>\n",
       "      <th>Recall</th>\n",
       "      <th>Cohen-Kappa</th>\n",
       "    </tr>\n",
       "  </thead>\n",
       "  <tbody>\n",
       "    <tr>\n",
       "      <th>0</th>\n",
       "      <td>LogisticRegression()</td>\n",
       "      <td>0.908958</td>\n",
       "      <td>0.431818</td>\n",
       "      <td>0.132174</td>\n",
       "      <td>0.078029</td>\n",
       "      <td>0.107912</td>\n",
       "    </tr>\n",
       "    <tr>\n",
       "      <th>1</th>\n",
       "      <td>DecisionTreeClassifier(max_depth=6)</td>\n",
       "      <td>0.923554</td>\n",
       "      <td>0.930380</td>\n",
       "      <td>0.259717</td>\n",
       "      <td>0.150924</td>\n",
       "      <td>0.240889</td>\n",
       "    </tr>\n",
       "    <tr>\n",
       "      <th>2</th>\n",
       "      <td>RandomForestClassifier(max_depth=8, n_estimato...</td>\n",
       "      <td>0.923554</td>\n",
       "      <td>0.953333</td>\n",
       "      <td>0.254448</td>\n",
       "      <td>0.146817</td>\n",
       "      <td>0.236338</td>\n",
       "    </tr>\n",
       "    <tr>\n",
       "      <th>3</th>\n",
       "      <td>AdaBoostClassifier(base_estimator=DecisionTree...</td>\n",
       "      <td>0.932950</td>\n",
       "      <td>0.758099</td>\n",
       "      <td>0.488518</td>\n",
       "      <td>0.360370</td>\n",
       "      <td>0.457454</td>\n",
       "    </tr>\n",
       "    <tr>\n",
       "      <th>4</th>\n",
       "      <td>GradientBoostingClassifier(max_depth=6, n_esti...</td>\n",
       "      <td>0.940431</td>\n",
       "      <td>0.919060</td>\n",
       "      <td>0.518791</td>\n",
       "      <td>0.361396</td>\n",
       "      <td>0.493382</td>\n",
       "    </tr>\n",
       "    <tr>\n",
       "      <th>5</th>\n",
       "      <td>XGBClassifier(base_score=None, booster=None, c...</td>\n",
       "      <td>0.939427</td>\n",
       "      <td>0.879902</td>\n",
       "      <td>0.519537</td>\n",
       "      <td>0.368583</td>\n",
       "      <td>0.492935</td>\n",
       "    </tr>\n",
       "    <tr>\n",
       "      <th>6</th>\n",
       "      <td>VotingClassifier(estimators=[('DT_4', Decision...</td>\n",
       "      <td>0.926747</td>\n",
       "      <td>0.972376</td>\n",
       "      <td>0.304762</td>\n",
       "      <td>0.180698</td>\n",
       "      <td>0.284846</td>\n",
       "    </tr>\n",
       "    <tr>\n",
       "      <th>7</th>\n",
       "      <td>StackingClassifier(estimators=[('DT_4', Decisi...</td>\n",
       "      <td>0.938059</td>\n",
       "      <td>0.837529</td>\n",
       "      <td>0.518781</td>\n",
       "      <td>0.375770</td>\n",
       "      <td>0.490754</td>\n",
       "    </tr>\n",
       "  </tbody>\n",
       "</table>\n",
       "</div>"
      ],
      "text/plain": [
       "                                               Model  Accuracy  Precision  \\\n",
       "0                               LogisticRegression()  0.908958   0.431818   \n",
       "1                DecisionTreeClassifier(max_depth=6)  0.923554   0.930380   \n",
       "2  RandomForestClassifier(max_depth=8, n_estimato...  0.923554   0.953333   \n",
       "3  AdaBoostClassifier(base_estimator=DecisionTree...  0.932950   0.758099   \n",
       "4  GradientBoostingClassifier(max_depth=6, n_esti...  0.940431   0.919060   \n",
       "5  XGBClassifier(base_score=None, booster=None, c...  0.939427   0.879902   \n",
       "6  VotingClassifier(estimators=[('DT_4', Decision...  0.926747   0.972376   \n",
       "7  StackingClassifier(estimators=[('DT_4', Decisi...  0.938059   0.837529   \n",
       "\n",
       "   F1_Score    Recall  Cohen-Kappa  \n",
       "0  0.132174  0.078029     0.107912  \n",
       "1  0.259717  0.150924     0.240889  \n",
       "2  0.254448  0.146817     0.236338  \n",
       "3  0.488518  0.360370     0.457454  \n",
       "4  0.518791  0.361396     0.493382  \n",
       "5  0.519537  0.368583     0.492935  \n",
       "6  0.304762  0.180698     0.284846  \n",
       "7  0.518781  0.375770     0.490754  "
      ]
     },
     "execution_count": 56,
     "metadata": {},
     "output_type": "execute_result"
    }
   ],
   "source": [
    "scorecard"
   ]
  },
  {
   "cell_type": "code",
   "execution_count": 57,
   "id": "c09df72a",
   "metadata": {},
   "outputs": [],
   "source": [
    "# Lets go with XGB and tune it for final prediction"
   ]
  },
  {
   "cell_type": "code",
   "execution_count": 58,
   "id": "a6caab10",
   "metadata": {},
   "outputs": [],
   "source": [
    "param = {'n_estimators':[100,120,150,200],\n",
    "        'learning_rate':[0.5,0.1,0.75,1],\n",
    "        'max_depth':[3,4,5,6,7]}"
   ]
  },
  {
   "cell_type": "code",
   "execution_count": 59,
   "id": "70da7a0c",
   "metadata": {},
   "outputs": [],
   "source": [
    "gscv = GridSearchCV(estimator=XGBClassifier(),param_grid=param,\n",
    "                    scoring='f1',verbose=3)"
   ]
  },
  {
   "cell_type": "code",
   "execution_count": 60,
   "id": "90bc51b1",
   "metadata": {},
   "outputs": [
    {
     "name": "stdout",
     "output_type": "stream",
     "text": [
      "Fitting 5 folds for each of 80 candidates, totalling 400 fits\n",
      "[CV 1/5] END learning_rate=0.5, max_depth=3, n_estimators=100;, score=0.492 total time=   0.0s\n",
      "[CV 2/5] END learning_rate=0.5, max_depth=3, n_estimators=100;, score=0.457 total time=   0.0s\n",
      "[CV 3/5] END learning_rate=0.5, max_depth=3, n_estimators=100;, score=0.482 total time=   0.0s\n",
      "[CV 4/5] END learning_rate=0.5, max_depth=3, n_estimators=100;, score=0.519 total time=   0.0s\n",
      "[CV 5/5] END learning_rate=0.5, max_depth=3, n_estimators=100;, score=0.546 total time=   0.0s\n",
      "[CV 1/5] END learning_rate=0.5, max_depth=3, n_estimators=120;, score=0.492 total time=   0.0s\n",
      "[CV 2/5] END learning_rate=0.5, max_depth=3, n_estimators=120;, score=0.456 total time=   0.0s\n",
      "[CV 3/5] END learning_rate=0.5, max_depth=3, n_estimators=120;, score=0.484 total time=   0.0s\n",
      "[CV 4/5] END learning_rate=0.5, max_depth=3, n_estimators=120;, score=0.524 total time=   0.0s\n",
      "[CV 5/5] END learning_rate=0.5, max_depth=3, n_estimators=120;, score=0.545 total time=   0.0s\n",
      "[CV 1/5] END learning_rate=0.5, max_depth=3, n_estimators=150;, score=0.494 total time=   0.0s\n",
      "[CV 2/5] END learning_rate=0.5, max_depth=3, n_estimators=150;, score=0.462 total time=   0.0s\n",
      "[CV 3/5] END learning_rate=0.5, max_depth=3, n_estimators=150;, score=0.486 total time=   0.0s\n",
      "[CV 4/5] END learning_rate=0.5, max_depth=3, n_estimators=150;, score=0.524 total time=   0.0s\n",
      "[CV 5/5] END learning_rate=0.5, max_depth=3, n_estimators=150;, score=0.545 total time=   0.0s\n",
      "[CV 1/5] END learning_rate=0.5, max_depth=3, n_estimators=200;, score=0.495 total time=   0.0s\n",
      "[CV 2/5] END learning_rate=0.5, max_depth=3, n_estimators=200;, score=0.465 total time=   0.0s\n",
      "[CV 3/5] END learning_rate=0.5, max_depth=3, n_estimators=200;, score=0.493 total time=   0.0s\n",
      "[CV 4/5] END learning_rate=0.5, max_depth=3, n_estimators=200;, score=0.531 total time=   0.0s\n",
      "[CV 5/5] END learning_rate=0.5, max_depth=3, n_estimators=200;, score=0.544 total time=   0.0s\n",
      "[CV 1/5] END learning_rate=0.5, max_depth=4, n_estimators=100;, score=0.495 total time=   0.0s\n",
      "[CV 2/5] END learning_rate=0.5, max_depth=4, n_estimators=100;, score=0.480 total time=   0.0s\n",
      "[CV 3/5] END learning_rate=0.5, max_depth=4, n_estimators=100;, score=0.487 total time=   0.0s\n",
      "[CV 4/5] END learning_rate=0.5, max_depth=4, n_estimators=100;, score=0.515 total time=   0.0s\n",
      "[CV 5/5] END learning_rate=0.5, max_depth=4, n_estimators=100;, score=0.533 total time=   0.0s\n",
      "[CV 1/5] END learning_rate=0.5, max_depth=4, n_estimators=120;, score=0.496 total time=   0.0s\n",
      "[CV 2/5] END learning_rate=0.5, max_depth=4, n_estimators=120;, score=0.472 total time=   0.0s\n",
      "[CV 3/5] END learning_rate=0.5, max_depth=4, n_estimators=120;, score=0.486 total time=   0.0s\n",
      "[CV 4/5] END learning_rate=0.5, max_depth=4, n_estimators=120;, score=0.513 total time=   0.0s\n",
      "[CV 5/5] END learning_rate=0.5, max_depth=4, n_estimators=120;, score=0.533 total time=   0.0s\n",
      "[CV 1/5] END learning_rate=0.5, max_depth=4, n_estimators=150;, score=0.498 total time=   0.0s\n",
      "[CV 2/5] END learning_rate=0.5, max_depth=4, n_estimators=150;, score=0.472 total time=   0.0s\n",
      "[CV 3/5] END learning_rate=0.5, max_depth=4, n_estimators=150;, score=0.483 total time=   0.0s\n",
      "[CV 4/5] END learning_rate=0.5, max_depth=4, n_estimators=150;, score=0.514 total time=   0.0s\n",
      "[CV 5/5] END learning_rate=0.5, max_depth=4, n_estimators=150;, score=0.530 total time=   0.0s\n",
      "[CV 1/5] END learning_rate=0.5, max_depth=4, n_estimators=200;, score=0.488 total time=   0.0s\n",
      "[CV 2/5] END learning_rate=0.5, max_depth=4, n_estimators=200;, score=0.469 total time=   0.0s\n",
      "[CV 3/5] END learning_rate=0.5, max_depth=4, n_estimators=200;, score=0.480 total time=   0.1s\n",
      "[CV 4/5] END learning_rate=0.5, max_depth=4, n_estimators=200;, score=0.518 total time=   0.0s\n",
      "[CV 5/5] END learning_rate=0.5, max_depth=4, n_estimators=200;, score=0.535 total time=   0.0s\n",
      "[CV 1/5] END learning_rate=0.5, max_depth=5, n_estimators=100;, score=0.492 total time=   0.0s\n",
      "[CV 2/5] END learning_rate=0.5, max_depth=5, n_estimators=100;, score=0.473 total time=   0.0s\n",
      "[CV 3/5] END learning_rate=0.5, max_depth=5, n_estimators=100;, score=0.475 total time=   0.0s\n",
      "[CV 4/5] END learning_rate=0.5, max_depth=5, n_estimators=100;, score=0.521 total time=   0.0s\n",
      "[CV 5/5] END learning_rate=0.5, max_depth=5, n_estimators=100;, score=0.535 total time=   0.0s\n",
      "[CV 1/5] END learning_rate=0.5, max_depth=5, n_estimators=120;, score=0.497 total time=   0.0s\n",
      "[CV 2/5] END learning_rate=0.5, max_depth=5, n_estimators=120;, score=0.476 total time=   0.0s\n",
      "[CV 3/5] END learning_rate=0.5, max_depth=5, n_estimators=120;, score=0.471 total time=   0.0s\n",
      "[CV 4/5] END learning_rate=0.5, max_depth=5, n_estimators=120;, score=0.533 total time=   0.0s\n",
      "[CV 5/5] END learning_rate=0.5, max_depth=5, n_estimators=120;, score=0.535 total time=   0.0s\n",
      "[CV 1/5] END learning_rate=0.5, max_depth=5, n_estimators=150;, score=0.494 total time=   0.0s\n",
      "[CV 2/5] END learning_rate=0.5, max_depth=5, n_estimators=150;, score=0.471 total time=   0.0s\n",
      "[CV 3/5] END learning_rate=0.5, max_depth=5, n_estimators=150;, score=0.484 total time=   0.0s\n",
      "[CV 4/5] END learning_rate=0.5, max_depth=5, n_estimators=150;, score=0.529 total time=   0.0s\n",
      "[CV 5/5] END learning_rate=0.5, max_depth=5, n_estimators=150;, score=0.540 total time=   0.0s\n",
      "[CV 1/5] END learning_rate=0.5, max_depth=5, n_estimators=200;, score=0.487 total time=   0.1s\n",
      "[CV 2/5] END learning_rate=0.5, max_depth=5, n_estimators=200;, score=0.476 total time=   0.1s\n",
      "[CV 3/5] END learning_rate=0.5, max_depth=5, n_estimators=200;, score=0.472 total time=   0.1s\n",
      "[CV 4/5] END learning_rate=0.5, max_depth=5, n_estimators=200;, score=0.529 total time=   0.1s\n",
      "[CV 5/5] END learning_rate=0.5, max_depth=5, n_estimators=200;, score=0.533 total time=   0.1s\n",
      "[CV 1/5] END learning_rate=0.5, max_depth=6, n_estimators=100;, score=0.484 total time=   0.0s\n",
      "[CV 2/5] END learning_rate=0.5, max_depth=6, n_estimators=100;, score=0.462 total time=   0.0s\n",
      "[CV 3/5] END learning_rate=0.5, max_depth=6, n_estimators=100;, score=0.480 total time=   0.0s\n",
      "[CV 4/5] END learning_rate=0.5, max_depth=6, n_estimators=100;, score=0.522 total time=   0.0s\n",
      "[CV 5/5] END learning_rate=0.5, max_depth=6, n_estimators=100;, score=0.541 total time=   0.0s\n",
      "[CV 1/5] END learning_rate=0.5, max_depth=6, n_estimators=120;, score=0.484 total time=   0.0s\n",
      "[CV 2/5] END learning_rate=0.5, max_depth=6, n_estimators=120;, score=0.455 total time=   0.0s\n",
      "[CV 3/5] END learning_rate=0.5, max_depth=6, n_estimators=120;, score=0.474 total time=   0.0s\n",
      "[CV 4/5] END learning_rate=0.5, max_depth=6, n_estimators=120;, score=0.516 total time=   0.0s\n",
      "[CV 5/5] END learning_rate=0.5, max_depth=6, n_estimators=120;, score=0.549 total time=   0.0s\n",
      "[CV 1/5] END learning_rate=0.5, max_depth=6, n_estimators=150;, score=0.483 total time=   0.0s\n",
      "[CV 2/5] END learning_rate=0.5, max_depth=6, n_estimators=150;, score=0.462 total time=   0.0s\n",
      "[CV 3/5] END learning_rate=0.5, max_depth=6, n_estimators=150;, score=0.477 total time=   0.1s\n",
      "[CV 4/5] END learning_rate=0.5, max_depth=6, n_estimators=150;, score=0.520 total time=   0.0s\n",
      "[CV 5/5] END learning_rate=0.5, max_depth=6, n_estimators=150;, score=0.538 total time=   0.0s\n",
      "[CV 1/5] END learning_rate=0.5, max_depth=6, n_estimators=200;, score=0.479 total time=   0.1s\n",
      "[CV 2/5] END learning_rate=0.5, max_depth=6, n_estimators=200;, score=0.472 total time=   0.1s\n",
      "[CV 3/5] END learning_rate=0.5, max_depth=6, n_estimators=200;, score=0.474 total time=   0.1s\n",
      "[CV 4/5] END learning_rate=0.5, max_depth=6, n_estimators=200;, score=0.522 total time=   0.1s\n",
      "[CV 5/5] END learning_rate=0.5, max_depth=6, n_estimators=200;, score=0.537 total time=   0.1s\n",
      "[CV 1/5] END learning_rate=0.5, max_depth=7, n_estimators=100;, score=0.488 total time=   0.1s\n",
      "[CV 2/5] END learning_rate=0.5, max_depth=7, n_estimators=100;, score=0.463 total time=   0.0s\n",
      "[CV 3/5] END learning_rate=0.5, max_depth=7, n_estimators=100;, score=0.476 total time=   0.0s\n",
      "[CV 4/5] END learning_rate=0.5, max_depth=7, n_estimators=100;, score=0.520 total time=   0.0s\n",
      "[CV 5/5] END learning_rate=0.5, max_depth=7, n_estimators=100;, score=0.550 total time=   0.1s\n",
      "[CV 1/5] END learning_rate=0.5, max_depth=7, n_estimators=120;, score=0.478 total time=   0.1s\n"
     ]
    },
    {
     "name": "stdout",
     "output_type": "stream",
     "text": [
      "[CV 2/5] END learning_rate=0.5, max_depth=7, n_estimators=120;, score=0.458 total time=   0.1s\n",
      "[CV 3/5] END learning_rate=0.5, max_depth=7, n_estimators=120;, score=0.466 total time=   0.3s\n",
      "[CV 4/5] END learning_rate=0.5, max_depth=7, n_estimators=120;, score=0.514 total time=   0.1s\n",
      "[CV 5/5] END learning_rate=0.5, max_depth=7, n_estimators=120;, score=0.528 total time=   0.1s\n",
      "[CV 1/5] END learning_rate=0.5, max_depth=7, n_estimators=150;, score=0.470 total time=   0.1s\n",
      "[CV 2/5] END learning_rate=0.5, max_depth=7, n_estimators=150;, score=0.457 total time=   0.1s\n",
      "[CV 3/5] END learning_rate=0.5, max_depth=7, n_estimators=150;, score=0.476 total time=   0.2s\n",
      "[CV 4/5] END learning_rate=0.5, max_depth=7, n_estimators=150;, score=0.514 total time=   0.1s\n",
      "[CV 5/5] END learning_rate=0.5, max_depth=7, n_estimators=150;, score=0.521 total time=   0.1s\n",
      "[CV 1/5] END learning_rate=0.5, max_depth=7, n_estimators=200;, score=0.483 total time=   0.3s\n",
      "[CV 2/5] END learning_rate=0.5, max_depth=7, n_estimators=200;, score=0.453 total time=   0.2s\n",
      "[CV 3/5] END learning_rate=0.5, max_depth=7, n_estimators=200;, score=0.474 total time=   0.3s\n",
      "[CV 4/5] END learning_rate=0.5, max_depth=7, n_estimators=200;, score=0.511 total time=   0.3s\n",
      "[CV 5/5] END learning_rate=0.5, max_depth=7, n_estimators=200;, score=0.509 total time=   0.2s\n",
      "[CV 1/5] END learning_rate=0.1, max_depth=3, n_estimators=100;, score=0.386 total time=   0.0s\n",
      "[CV 2/5] END learning_rate=0.1, max_depth=3, n_estimators=100;, score=0.389 total time=   0.0s\n",
      "[CV 3/5] END learning_rate=0.1, max_depth=3, n_estimators=100;, score=0.427 total time=   0.0s\n",
      "[CV 4/5] END learning_rate=0.1, max_depth=3, n_estimators=100;, score=0.427 total time=   0.0s\n",
      "[CV 5/5] END learning_rate=0.1, max_depth=3, n_estimators=100;, score=0.421 total time=   0.0s\n",
      "[CV 1/5] END learning_rate=0.1, max_depth=3, n_estimators=120;, score=0.410 total time=   0.0s\n",
      "[CV 2/5] END learning_rate=0.1, max_depth=3, n_estimators=120;, score=0.405 total time=   0.0s\n",
      "[CV 3/5] END learning_rate=0.1, max_depth=3, n_estimators=120;, score=0.465 total time=   0.0s\n",
      "[CV 4/5] END learning_rate=0.1, max_depth=3, n_estimators=120;, score=0.462 total time=   0.0s\n",
      "[CV 5/5] END learning_rate=0.1, max_depth=3, n_estimators=120;, score=0.455 total time=   0.0s\n",
      "[CV 1/5] END learning_rate=0.1, max_depth=3, n_estimators=150;, score=0.433 total time=   0.0s\n",
      "[CV 2/5] END learning_rate=0.1, max_depth=3, n_estimators=150;, score=0.413 total time=   0.1s\n",
      "[CV 3/5] END learning_rate=0.1, max_depth=3, n_estimators=150;, score=0.462 total time=   0.1s\n",
      "[CV 4/5] END learning_rate=0.1, max_depth=3, n_estimators=150;, score=0.475 total time=   0.1s\n",
      "[CV 5/5] END learning_rate=0.1, max_depth=3, n_estimators=150;, score=0.488 total time=   0.1s\n",
      "[CV 1/5] END learning_rate=0.1, max_depth=3, n_estimators=200;, score=0.467 total time=   0.1s\n",
      "[CV 2/5] END learning_rate=0.1, max_depth=3, n_estimators=200;, score=0.448 total time=   0.1s\n",
      "[CV 3/5] END learning_rate=0.1, max_depth=3, n_estimators=200;, score=0.478 total time=   0.1s\n",
      "[CV 4/5] END learning_rate=0.1, max_depth=3, n_estimators=200;, score=0.500 total time=   0.1s\n",
      "[CV 5/5] END learning_rate=0.1, max_depth=3, n_estimators=200;, score=0.526 total time=   0.1s\n",
      "[CV 1/5] END learning_rate=0.1, max_depth=4, n_estimators=100;, score=0.447 total time=   0.0s\n",
      "[CV 2/5] END learning_rate=0.1, max_depth=4, n_estimators=100;, score=0.444 total time=   0.0s\n",
      "[CV 3/5] END learning_rate=0.1, max_depth=4, n_estimators=100;, score=0.479 total time=   0.0s\n",
      "[CV 4/5] END learning_rate=0.1, max_depth=4, n_estimators=100;, score=0.484 total time=   0.0s\n",
      "[CV 5/5] END learning_rate=0.1, max_depth=4, n_estimators=100;, score=0.515 total time=   0.0s\n",
      "[CV 1/5] END learning_rate=0.1, max_depth=4, n_estimators=120;, score=0.465 total time=   0.0s\n",
      "[CV 2/5] END learning_rate=0.1, max_depth=4, n_estimators=120;, score=0.451 total time=   0.0s\n",
      "[CV 3/5] END learning_rate=0.1, max_depth=4, n_estimators=120;, score=0.478 total time=   0.0s\n",
      "[CV 4/5] END learning_rate=0.1, max_depth=4, n_estimators=120;, score=0.501 total time=   0.0s\n",
      "[CV 5/5] END learning_rate=0.1, max_depth=4, n_estimators=120;, score=0.520 total time=   0.0s\n",
      "[CV 1/5] END learning_rate=0.1, max_depth=4, n_estimators=150;, score=0.486 total time=   0.0s\n",
      "[CV 2/5] END learning_rate=0.1, max_depth=4, n_estimators=150;, score=0.459 total time=   0.0s\n",
      "[CV 3/5] END learning_rate=0.1, max_depth=4, n_estimators=150;, score=0.490 total time=   0.1s\n",
      "[CV 4/5] END learning_rate=0.1, max_depth=4, n_estimators=150;, score=0.508 total time=   0.1s\n",
      "[CV 5/5] END learning_rate=0.1, max_depth=4, n_estimators=150;, score=0.531 total time=   0.1s\n",
      "[CV 1/5] END learning_rate=0.1, max_depth=4, n_estimators=200;, score=0.491 total time=   0.1s\n",
      "[CV 2/5] END learning_rate=0.1, max_depth=4, n_estimators=200;, score=0.463 total time=   0.1s\n",
      "[CV 3/5] END learning_rate=0.1, max_depth=4, n_estimators=200;, score=0.490 total time=   0.1s\n",
      "[CV 4/5] END learning_rate=0.1, max_depth=4, n_estimators=200;, score=0.517 total time=   0.1s\n",
      "[CV 5/5] END learning_rate=0.1, max_depth=4, n_estimators=200;, score=0.532 total time=   0.1s\n",
      "[CV 1/5] END learning_rate=0.1, max_depth=5, n_estimators=100;, score=0.475 total time=   0.0s\n",
      "[CV 2/5] END learning_rate=0.1, max_depth=5, n_estimators=100;, score=0.458 total time=   0.0s\n",
      "[CV 3/5] END learning_rate=0.1, max_depth=5, n_estimators=100;, score=0.485 total time=   0.0s\n",
      "[CV 4/5] END learning_rate=0.1, max_depth=5, n_estimators=100;, score=0.512 total time=   0.0s\n",
      "[CV 5/5] END learning_rate=0.1, max_depth=5, n_estimators=100;, score=0.518 total time=   0.0s\n",
      "[CV 1/5] END learning_rate=0.1, max_depth=5, n_estimators=120;, score=0.478 total time=   0.1s\n",
      "[CV 2/5] END learning_rate=0.1, max_depth=5, n_estimators=120;, score=0.466 total time=   0.1s\n",
      "[CV 3/5] END learning_rate=0.1, max_depth=5, n_estimators=120;, score=0.487 total time=   0.0s\n",
      "[CV 4/5] END learning_rate=0.1, max_depth=5, n_estimators=120;, score=0.517 total time=   0.1s\n",
      "[CV 5/5] END learning_rate=0.1, max_depth=5, n_estimators=120;, score=0.526 total time=   0.0s\n",
      "[CV 1/5] END learning_rate=0.1, max_depth=5, n_estimators=150;, score=0.487 total time=   0.1s\n",
      "[CV 2/5] END learning_rate=0.1, max_depth=5, n_estimators=150;, score=0.471 total time=   0.1s\n",
      "[CV 3/5] END learning_rate=0.1, max_depth=5, n_estimators=150;, score=0.487 total time=   0.1s\n",
      "[CV 4/5] END learning_rate=0.1, max_depth=5, n_estimators=150;, score=0.520 total time=   0.1s\n",
      "[CV 5/5] END learning_rate=0.1, max_depth=5, n_estimators=150;, score=0.537 total time=   0.1s\n",
      "[CV 1/5] END learning_rate=0.1, max_depth=5, n_estimators=200;, score=0.492 total time=   0.1s\n",
      "[CV 2/5] END learning_rate=0.1, max_depth=5, n_estimators=200;, score=0.479 total time=   0.1s\n",
      "[CV 3/5] END learning_rate=0.1, max_depth=5, n_estimators=200;, score=0.486 total time=   0.1s\n",
      "[CV 4/5] END learning_rate=0.1, max_depth=5, n_estimators=200;, score=0.519 total time=   0.1s\n",
      "[CV 5/5] END learning_rate=0.1, max_depth=5, n_estimators=200;, score=0.536 total time=   0.1s\n",
      "[CV 1/5] END learning_rate=0.1, max_depth=6, n_estimators=100;, score=0.481 total time=   0.0s\n",
      "[CV 2/5] END learning_rate=0.1, max_depth=6, n_estimators=100;, score=0.460 total time=   0.0s\n",
      "[CV 3/5] END learning_rate=0.1, max_depth=6, n_estimators=100;, score=0.478 total time=   0.1s\n",
      "[CV 4/5] END learning_rate=0.1, max_depth=6, n_estimators=100;, score=0.515 total time=   0.1s\n",
      "[CV 5/5] END learning_rate=0.1, max_depth=6, n_estimators=100;, score=0.534 total time=   0.0s\n",
      "[CV 1/5] END learning_rate=0.1, max_depth=6, n_estimators=120;, score=0.481 total time=   0.1s\n",
      "[CV 2/5] END learning_rate=0.1, max_depth=6, n_estimators=120;, score=0.461 total time=   0.1s\n",
      "[CV 3/5] END learning_rate=0.1, max_depth=6, n_estimators=120;, score=0.478 total time=   0.1s\n",
      "[CV 4/5] END learning_rate=0.1, max_depth=6, n_estimators=120;, score=0.518 total time=   0.1s\n",
      "[CV 5/5] END learning_rate=0.1, max_depth=6, n_estimators=120;, score=0.537 total time=   0.1s\n",
      "[CV 1/5] END learning_rate=0.1, max_depth=6, n_estimators=150;, score=0.485 total time=   0.1s\n",
      "[CV 2/5] END learning_rate=0.1, max_depth=6, n_estimators=150;, score=0.464 total time=   0.1s\n",
      "[CV 3/5] END learning_rate=0.1, max_depth=6, n_estimators=150;, score=0.481 total time=   0.1s\n",
      "[CV 4/5] END learning_rate=0.1, max_depth=6, n_estimators=150;, score=0.517 total time=   0.1s\n"
     ]
    },
    {
     "name": "stdout",
     "output_type": "stream",
     "text": [
      "[CV 5/5] END learning_rate=0.1, max_depth=6, n_estimators=150;, score=0.541 total time=   0.1s\n",
      "[CV 1/5] END learning_rate=0.1, max_depth=6, n_estimators=200;, score=0.492 total time=   0.1s\n",
      "[CV 2/5] END learning_rate=0.1, max_depth=6, n_estimators=200;, score=0.468 total time=   0.2s\n",
      "[CV 3/5] END learning_rate=0.1, max_depth=6, n_estimators=200;, score=0.482 total time=   0.2s\n",
      "[CV 4/5] END learning_rate=0.1, max_depth=6, n_estimators=200;, score=0.527 total time=   0.2s\n",
      "[CV 5/5] END learning_rate=0.1, max_depth=6, n_estimators=200;, score=0.540 total time=   0.2s\n",
      "[CV 1/5] END learning_rate=0.1, max_depth=7, n_estimators=100;, score=0.481 total time=   0.1s\n",
      "[CV 2/5] END learning_rate=0.1, max_depth=7, n_estimators=100;, score=0.466 total time=   0.1s\n",
      "[CV 3/5] END learning_rate=0.1, max_depth=7, n_estimators=100;, score=0.472 total time=   0.1s\n",
      "[CV 4/5] END learning_rate=0.1, max_depth=7, n_estimators=100;, score=0.516 total time=   0.1s\n",
      "[CV 5/5] END learning_rate=0.1, max_depth=7, n_estimators=100;, score=0.543 total time=   0.1s\n",
      "[CV 1/5] END learning_rate=0.1, max_depth=7, n_estimators=120;, score=0.487 total time=   0.1s\n",
      "[CV 2/5] END learning_rate=0.1, max_depth=7, n_estimators=120;, score=0.462 total time=   0.1s\n",
      "[CV 3/5] END learning_rate=0.1, max_depth=7, n_estimators=120;, score=0.475 total time=   0.1s\n",
      "[CV 4/5] END learning_rate=0.1, max_depth=7, n_estimators=120;, score=0.515 total time=   0.1s\n",
      "[CV 5/5] END learning_rate=0.1, max_depth=7, n_estimators=120;, score=0.542 total time=   0.1s\n",
      "[CV 1/5] END learning_rate=0.1, max_depth=7, n_estimators=150;, score=0.488 total time=   0.2s\n",
      "[CV 2/5] END learning_rate=0.1, max_depth=7, n_estimators=150;, score=0.467 total time=   0.2s\n",
      "[CV 3/5] END learning_rate=0.1, max_depth=7, n_estimators=150;, score=0.477 total time=   0.1s\n",
      "[CV 4/5] END learning_rate=0.1, max_depth=7, n_estimators=150;, score=0.514 total time=   0.1s\n",
      "[CV 5/5] END learning_rate=0.1, max_depth=7, n_estimators=150;, score=0.542 total time=   0.1s\n",
      "[CV 1/5] END learning_rate=0.1, max_depth=7, n_estimators=200;, score=0.486 total time=   0.2s\n",
      "[CV 2/5] END learning_rate=0.1, max_depth=7, n_estimators=200;, score=0.459 total time=   0.2s\n",
      "[CV 3/5] END learning_rate=0.1, max_depth=7, n_estimators=200;, score=0.478 total time=   0.2s\n",
      "[CV 4/5] END learning_rate=0.1, max_depth=7, n_estimators=200;, score=0.518 total time=   0.2s\n",
      "[CV 5/5] END learning_rate=0.1, max_depth=7, n_estimators=200;, score=0.545 total time=   0.2s\n",
      "[CV 1/5] END learning_rate=0.75, max_depth=3, n_estimators=100;, score=0.492 total time=   0.0s\n",
      "[CV 2/5] END learning_rate=0.75, max_depth=3, n_estimators=100;, score=0.469 total time=   0.0s\n",
      "[CV 3/5] END learning_rate=0.75, max_depth=3, n_estimators=100;, score=0.485 total time=   0.0s\n",
      "[CV 4/5] END learning_rate=0.75, max_depth=3, n_estimators=100;, score=0.512 total time=   0.0s\n",
      "[CV 5/5] END learning_rate=0.75, max_depth=3, n_estimators=100;, score=0.539 total time=   0.0s\n",
      "[CV 1/5] END learning_rate=0.75, max_depth=3, n_estimators=120;, score=0.491 total time=   0.0s\n",
      "[CV 2/5] END learning_rate=0.75, max_depth=3, n_estimators=120;, score=0.464 total time=   0.0s\n",
      "[CV 3/5] END learning_rate=0.75, max_depth=3, n_estimators=120;, score=0.486 total time=   0.0s\n",
      "[CV 4/5] END learning_rate=0.75, max_depth=3, n_estimators=120;, score=0.516 total time=   0.0s\n",
      "[CV 5/5] END learning_rate=0.75, max_depth=3, n_estimators=120;, score=0.539 total time=   0.0s\n",
      "[CV 1/5] END learning_rate=0.75, max_depth=3, n_estimators=150;, score=0.495 total time=   0.0s\n",
      "[CV 2/5] END learning_rate=0.75, max_depth=3, n_estimators=150;, score=0.463 total time=   0.0s\n",
      "[CV 3/5] END learning_rate=0.75, max_depth=3, n_estimators=150;, score=0.486 total time=   0.0s\n",
      "[CV 4/5] END learning_rate=0.75, max_depth=3, n_estimators=150;, score=0.519 total time=   0.0s\n",
      "[CV 5/5] END learning_rate=0.75, max_depth=3, n_estimators=150;, score=0.541 total time=   0.0s\n",
      "[CV 1/5] END learning_rate=0.75, max_depth=3, n_estimators=200;, score=0.495 total time=   0.1s\n",
      "[CV 2/5] END learning_rate=0.75, max_depth=3, n_estimators=200;, score=0.466 total time=   0.1s\n",
      "[CV 3/5] END learning_rate=0.75, max_depth=3, n_estimators=200;, score=0.487 total time=   0.1s\n",
      "[CV 4/5] END learning_rate=0.75, max_depth=3, n_estimators=200;, score=0.523 total time=   0.1s\n",
      "[CV 5/5] END learning_rate=0.75, max_depth=3, n_estimators=200;, score=0.538 total time=   0.1s\n",
      "[CV 1/5] END learning_rate=0.75, max_depth=4, n_estimators=100;, score=0.493 total time=   0.0s\n",
      "[CV 2/5] END learning_rate=0.75, max_depth=4, n_estimators=100;, score=0.468 total time=   0.0s\n",
      "[CV 3/5] END learning_rate=0.75, max_depth=4, n_estimators=100;, score=0.487 total time=   0.0s\n",
      "[CV 4/5] END learning_rate=0.75, max_depth=4, n_estimators=100;, score=0.513 total time=   0.0s\n",
      "[CV 5/5] END learning_rate=0.75, max_depth=4, n_estimators=100;, score=0.538 total time=   0.0s\n",
      "[CV 1/5] END learning_rate=0.75, max_depth=4, n_estimators=120;, score=0.490 total time=   0.0s\n",
      "[CV 2/5] END learning_rate=0.75, max_depth=4, n_estimators=120;, score=0.471 total time=   0.0s\n",
      "[CV 3/5] END learning_rate=0.75, max_depth=4, n_estimators=120;, score=0.490 total time=   0.0s\n",
      "[CV 4/5] END learning_rate=0.75, max_depth=4, n_estimators=120;, score=0.519 total time=   0.0s\n",
      "[CV 5/5] END learning_rate=0.75, max_depth=4, n_estimators=120;, score=0.535 total time=   0.0s\n",
      "[CV 1/5] END learning_rate=0.75, max_depth=4, n_estimators=150;, score=0.489 total time=   0.0s\n",
      "[CV 2/5] END learning_rate=0.75, max_depth=4, n_estimators=150;, score=0.472 total time=   0.1s\n",
      "[CV 3/5] END learning_rate=0.75, max_depth=4, n_estimators=150;, score=0.481 total time=   0.0s\n",
      "[CV 4/5] END learning_rate=0.75, max_depth=4, n_estimators=150;, score=0.513 total time=   0.1s\n",
      "[CV 5/5] END learning_rate=0.75, max_depth=4, n_estimators=150;, score=0.531 total time=   0.0s\n",
      "[CV 1/5] END learning_rate=0.75, max_depth=4, n_estimators=200;, score=0.490 total time=   0.1s\n",
      "[CV 2/5] END learning_rate=0.75, max_depth=4, n_estimators=200;, score=0.472 total time=   0.1s\n",
      "[CV 3/5] END learning_rate=0.75, max_depth=4, n_estimators=200;, score=0.486 total time=   0.1s\n",
      "[CV 4/5] END learning_rate=0.75, max_depth=4, n_estimators=200;, score=0.514 total time=   0.1s\n",
      "[CV 5/5] END learning_rate=0.75, max_depth=4, n_estimators=200;, score=0.535 total time=   0.1s\n",
      "[CV 1/5] END learning_rate=0.75, max_depth=5, n_estimators=100;, score=0.486 total time=   0.0s\n",
      "[CV 2/5] END learning_rate=0.75, max_depth=5, n_estimators=100;, score=0.474 total time=   0.0s\n",
      "[CV 3/5] END learning_rate=0.75, max_depth=5, n_estimators=100;, score=0.489 total time=   0.0s\n",
      "[CV 4/5] END learning_rate=0.75, max_depth=5, n_estimators=100;, score=0.517 total time=   0.0s\n",
      "[CV 5/5] END learning_rate=0.75, max_depth=5, n_estimators=100;, score=0.530 total time=   0.0s\n",
      "[CV 1/5] END learning_rate=0.75, max_depth=5, n_estimators=120;, score=0.485 total time=   0.0s\n",
      "[CV 2/5] END learning_rate=0.75, max_depth=5, n_estimators=120;, score=0.471 total time=   0.0s\n",
      "[CV 3/5] END learning_rate=0.75, max_depth=5, n_estimators=120;, score=0.482 total time=   0.0s\n",
      "[CV 4/5] END learning_rate=0.75, max_depth=5, n_estimators=120;, score=0.520 total time=   0.0s\n",
      "[CV 5/5] END learning_rate=0.75, max_depth=5, n_estimators=120;, score=0.529 total time=   0.0s\n",
      "[CV 1/5] END learning_rate=0.75, max_depth=5, n_estimators=150;, score=0.487 total time=   0.1s\n",
      "[CV 2/5] END learning_rate=0.75, max_depth=5, n_estimators=150;, score=0.478 total time=   0.1s\n",
      "[CV 3/5] END learning_rate=0.75, max_depth=5, n_estimators=150;, score=0.483 total time=   0.1s\n",
      "[CV 4/5] END learning_rate=0.75, max_depth=5, n_estimators=150;, score=0.517 total time=   0.1s\n",
      "[CV 5/5] END learning_rate=0.75, max_depth=5, n_estimators=150;, score=0.521 total time=   0.1s\n",
      "[CV 1/5] END learning_rate=0.75, max_depth=5, n_estimators=200;, score=0.477 total time=   0.1s\n",
      "[CV 2/5] END learning_rate=0.75, max_depth=5, n_estimators=200;, score=0.464 total time=   0.1s\n",
      "[CV 3/5] END learning_rate=0.75, max_depth=5, n_estimators=200;, score=0.474 total time=   0.1s\n",
      "[CV 4/5] END learning_rate=0.75, max_depth=5, n_estimators=200;, score=0.512 total time=   0.1s\n",
      "[CV 5/5] END learning_rate=0.75, max_depth=5, n_estimators=200;, score=0.515 total time=   0.1s\n",
      "[CV 1/5] END learning_rate=0.75, max_depth=6, n_estimators=100;, score=0.480 total time=   0.0s\n"
     ]
    },
    {
     "name": "stdout",
     "output_type": "stream",
     "text": [
      "[CV 2/5] END learning_rate=0.75, max_depth=6, n_estimators=100;, score=0.458 total time=   0.1s\n",
      "[CV 3/5] END learning_rate=0.75, max_depth=6, n_estimators=100;, score=0.465 total time=   0.0s\n",
      "[CV 4/5] END learning_rate=0.75, max_depth=6, n_estimators=100;, score=0.504 total time=   0.1s\n",
      "[CV 5/5] END learning_rate=0.75, max_depth=6, n_estimators=100;, score=0.533 total time=   0.0s\n",
      "[CV 1/5] END learning_rate=0.75, max_depth=6, n_estimators=120;, score=0.488 total time=   0.1s\n",
      "[CV 2/5] END learning_rate=0.75, max_depth=6, n_estimators=120;, score=0.457 total time=   0.1s\n",
      "[CV 3/5] END learning_rate=0.75, max_depth=6, n_estimators=120;, score=0.454 total time=   0.1s\n",
      "[CV 4/5] END learning_rate=0.75, max_depth=6, n_estimators=120;, score=0.513 total time=   0.1s\n",
      "[CV 5/5] END learning_rate=0.75, max_depth=6, n_estimators=120;, score=0.520 total time=   0.1s\n",
      "[CV 1/5] END learning_rate=0.75, max_depth=6, n_estimators=150;, score=0.470 total time=   0.2s\n",
      "[CV 2/5] END learning_rate=0.75, max_depth=6, n_estimators=150;, score=0.460 total time=   0.1s\n",
      "[CV 3/5] END learning_rate=0.75, max_depth=6, n_estimators=150;, score=0.459 total time=   0.2s\n",
      "[CV 4/5] END learning_rate=0.75, max_depth=6, n_estimators=150;, score=0.507 total time=   0.1s\n",
      "[CV 5/5] END learning_rate=0.75, max_depth=6, n_estimators=150;, score=0.524 total time=   0.2s\n",
      "[CV 1/5] END learning_rate=0.75, max_depth=6, n_estimators=200;, score=0.456 total time=   0.3s\n",
      "[CV 2/5] END learning_rate=0.75, max_depth=6, n_estimators=200;, score=0.453 total time=   0.2s\n",
      "[CV 3/5] END learning_rate=0.75, max_depth=6, n_estimators=200;, score=0.458 total time=   0.2s\n",
      "[CV 4/5] END learning_rate=0.75, max_depth=6, n_estimators=200;, score=0.506 total time=   0.3s\n",
      "[CV 5/5] END learning_rate=0.75, max_depth=6, n_estimators=200;, score=0.510 total time=   0.2s\n",
      "[CV 1/5] END learning_rate=0.75, max_depth=7, n_estimators=100;, score=0.480 total time=   0.1s\n",
      "[CV 2/5] END learning_rate=0.75, max_depth=7, n_estimators=100;, score=0.448 total time=   0.1s\n",
      "[CV 3/5] END learning_rate=0.75, max_depth=7, n_estimators=100;, score=0.472 total time=   0.1s\n",
      "[CV 4/5] END learning_rate=0.75, max_depth=7, n_estimators=100;, score=0.514 total time=   0.1s\n",
      "[CV 5/5] END learning_rate=0.75, max_depth=7, n_estimators=100;, score=0.525 total time=   0.1s\n",
      "[CV 1/5] END learning_rate=0.75, max_depth=7, n_estimators=120;, score=0.478 total time=   0.1s\n",
      "[CV 2/5] END learning_rate=0.75, max_depth=7, n_estimators=120;, score=0.456 total time=   0.1s\n",
      "[CV 3/5] END learning_rate=0.75, max_depth=7, n_estimators=120;, score=0.472 total time=   0.1s\n",
      "[CV 4/5] END learning_rate=0.75, max_depth=7, n_estimators=120;, score=0.504 total time=   0.2s\n",
      "[CV 5/5] END learning_rate=0.75, max_depth=7, n_estimators=120;, score=0.522 total time=   0.1s\n",
      "[CV 1/5] END learning_rate=0.75, max_depth=7, n_estimators=150;, score=0.467 total time=   0.1s\n",
      "[CV 2/5] END learning_rate=0.75, max_depth=7, n_estimators=150;, score=0.461 total time=   0.2s\n",
      "[CV 3/5] END learning_rate=0.75, max_depth=7, n_estimators=150;, score=0.458 total time=   0.1s\n",
      "[CV 4/5] END learning_rate=0.75, max_depth=7, n_estimators=150;, score=0.496 total time=   0.1s\n",
      "[CV 5/5] END learning_rate=0.75, max_depth=7, n_estimators=150;, score=0.506 total time=   0.1s\n",
      "[CV 1/5] END learning_rate=0.75, max_depth=7, n_estimators=200;, score=0.466 total time=   0.2s\n",
      "[CV 2/5] END learning_rate=0.75, max_depth=7, n_estimators=200;, score=0.461 total time=   0.2s\n",
      "[CV 3/5] END learning_rate=0.75, max_depth=7, n_estimators=200;, score=0.449 total time=   0.2s\n",
      "[CV 4/5] END learning_rate=0.75, max_depth=7, n_estimators=200;, score=0.495 total time=   0.2s\n",
      "[CV 5/5] END learning_rate=0.75, max_depth=7, n_estimators=200;, score=0.510 total time=   0.2s\n",
      "[CV 1/5] END learning_rate=1, max_depth=3, n_estimators=100;, score=0.490 total time=   0.0s\n",
      "[CV 2/5] END learning_rate=1, max_depth=3, n_estimators=100;, score=0.464 total time=   0.0s\n",
      "[CV 3/5] END learning_rate=1, max_depth=3, n_estimators=100;, score=0.486 total time=   0.0s\n",
      "[CV 4/5] END learning_rate=1, max_depth=3, n_estimators=100;, score=0.528 total time=   0.0s\n",
      "[CV 5/5] END learning_rate=1, max_depth=3, n_estimators=100;, score=0.547 total time=   0.0s\n",
      "[CV 1/5] END learning_rate=1, max_depth=3, n_estimators=120;, score=0.500 total time=   0.0s\n",
      "[CV 2/5] END learning_rate=1, max_depth=3, n_estimators=120;, score=0.470 total time=   0.0s\n",
      "[CV 3/5] END learning_rate=1, max_depth=3, n_estimators=120;, score=0.485 total time=   0.0s\n",
      "[CV 4/5] END learning_rate=1, max_depth=3, n_estimators=120;, score=0.529 total time=   0.0s\n",
      "[CV 5/5] END learning_rate=1, max_depth=3, n_estimators=120;, score=0.537 total time=   0.0s\n",
      "[CV 1/5] END learning_rate=1, max_depth=3, n_estimators=150;, score=0.495 total time=   0.0s\n",
      "[CV 2/5] END learning_rate=1, max_depth=3, n_estimators=150;, score=0.467 total time=   0.0s\n",
      "[CV 3/5] END learning_rate=1, max_depth=3, n_estimators=150;, score=0.488 total time=   0.0s\n",
      "[CV 4/5] END learning_rate=1, max_depth=3, n_estimators=150;, score=0.527 total time=   0.0s\n",
      "[CV 5/5] END learning_rate=1, max_depth=3, n_estimators=150;, score=0.536 total time=   0.0s\n",
      "[CV 1/5] END learning_rate=1, max_depth=3, n_estimators=200;, score=0.494 total time=   0.1s\n",
      "[CV 2/5] END learning_rate=1, max_depth=3, n_estimators=200;, score=0.470 total time=   0.1s\n",
      "[CV 3/5] END learning_rate=1, max_depth=3, n_estimators=200;, score=0.489 total time=   0.1s\n",
      "[CV 4/5] END learning_rate=1, max_depth=3, n_estimators=200;, score=0.527 total time=   0.1s\n",
      "[CV 5/5] END learning_rate=1, max_depth=3, n_estimators=200;, score=0.537 total time=   0.1s\n",
      "[CV 1/5] END learning_rate=1, max_depth=4, n_estimators=100;, score=0.496 total time=   0.0s\n",
      "[CV 2/5] END learning_rate=1, max_depth=4, n_estimators=100;, score=0.482 total time=   0.0s\n",
      "[CV 3/5] END learning_rate=1, max_depth=4, n_estimators=100;, score=0.481 total time=   0.0s\n",
      "[CV 4/5] END learning_rate=1, max_depth=4, n_estimators=100;, score=0.513 total time=   0.0s\n",
      "[CV 5/5] END learning_rate=1, max_depth=4, n_estimators=100;, score=0.531 total time=   0.0s\n",
      "[CV 1/5] END learning_rate=1, max_depth=4, n_estimators=120;, score=0.503 total time=   0.0s\n",
      "[CV 2/5] END learning_rate=1, max_depth=4, n_estimators=120;, score=0.475 total time=   0.0s\n",
      "[CV 3/5] END learning_rate=1, max_depth=4, n_estimators=120;, score=0.491 total time=   0.0s\n",
      "[CV 4/5] END learning_rate=1, max_depth=4, n_estimators=120;, score=0.511 total time=   0.0s\n",
      "[CV 5/5] END learning_rate=1, max_depth=4, n_estimators=120;, score=0.534 total time=   0.0s\n",
      "[CV 1/5] END learning_rate=1, max_depth=4, n_estimators=150;, score=0.490 total time=   0.1s\n",
      "[CV 2/5] END learning_rate=1, max_depth=4, n_estimators=150;, score=0.464 total time=   0.1s\n",
      "[CV 3/5] END learning_rate=1, max_depth=4, n_estimators=150;, score=0.488 total time=   0.1s\n",
      "[CV 4/5] END learning_rate=1, max_depth=4, n_estimators=150;, score=0.510 total time=   0.0s\n",
      "[CV 5/5] END learning_rate=1, max_depth=4, n_estimators=150;, score=0.525 total time=   0.1s\n",
      "[CV 1/5] END learning_rate=1, max_depth=4, n_estimators=200;, score=0.485 total time=   0.1s\n",
      "[CV 2/5] END learning_rate=1, max_depth=4, n_estimators=200;, score=0.466 total time=   0.1s\n",
      "[CV 3/5] END learning_rate=1, max_depth=4, n_estimators=200;, score=0.482 total time=   0.1s\n",
      "[CV 4/5] END learning_rate=1, max_depth=4, n_estimators=200;, score=0.516 total time=   0.1s\n",
      "[CV 5/5] END learning_rate=1, max_depth=4, n_estimators=200;, score=0.522 total time=   0.1s\n",
      "[CV 1/5] END learning_rate=1, max_depth=5, n_estimators=100;, score=0.482 total time=   0.0s\n",
      "[CV 2/5] END learning_rate=1, max_depth=5, n_estimators=100;, score=0.464 total time=   0.0s\n",
      "[CV 3/5] END learning_rate=1, max_depth=5, n_estimators=100;, score=0.476 total time=   0.0s\n",
      "[CV 4/5] END learning_rate=1, max_depth=5, n_estimators=100;, score=0.525 total time=   0.0s\n",
      "[CV 5/5] END learning_rate=1, max_depth=5, n_estimators=100;, score=0.520 total time=   0.0s\n",
      "[CV 1/5] END learning_rate=1, max_depth=5, n_estimators=120;, score=0.476 total time=   0.1s\n",
      "[CV 2/5] END learning_rate=1, max_depth=5, n_estimators=120;, score=0.463 total time=   0.0s\n",
      "[CV 3/5] END learning_rate=1, max_depth=5, n_estimators=120;, score=0.464 total time=   0.0s\n",
      "[CV 4/5] END learning_rate=1, max_depth=5, n_estimators=120;, score=0.515 total time=   0.0s\n"
     ]
    },
    {
     "name": "stdout",
     "output_type": "stream",
     "text": [
      "[CV 5/5] END learning_rate=1, max_depth=5, n_estimators=120;, score=0.514 total time=   0.1s\n",
      "[CV 1/5] END learning_rate=1, max_depth=5, n_estimators=150;, score=0.482 total time=   0.1s\n",
      "[CV 2/5] END learning_rate=1, max_depth=5, n_estimators=150;, score=0.467 total time=   0.1s\n",
      "[CV 3/5] END learning_rate=1, max_depth=5, n_estimators=150;, score=0.472 total time=   0.1s\n",
      "[CV 4/5] END learning_rate=1, max_depth=5, n_estimators=150;, score=0.503 total time=   0.1s\n",
      "[CV 5/5] END learning_rate=1, max_depth=5, n_estimators=150;, score=0.509 total time=   0.1s\n",
      "[CV 1/5] END learning_rate=1, max_depth=5, n_estimators=200;, score=0.467 total time=   0.1s\n",
      "[CV 2/5] END learning_rate=1, max_depth=5, n_estimators=200;, score=0.449 total time=   0.2s\n",
      "[CV 3/5] END learning_rate=1, max_depth=5, n_estimators=200;, score=0.462 total time=   0.2s\n",
      "[CV 4/5] END learning_rate=1, max_depth=5, n_estimators=200;, score=0.508 total time=   0.2s\n",
      "[CV 5/5] END learning_rate=1, max_depth=5, n_estimators=200;, score=0.498 total time=   0.2s\n",
      "[CV 1/5] END learning_rate=1, max_depth=6, n_estimators=100;, score=0.459 total time=   0.1s\n",
      "[CV 2/5] END learning_rate=1, max_depth=6, n_estimators=100;, score=0.461 total time=   0.1s\n",
      "[CV 3/5] END learning_rate=1, max_depth=6, n_estimators=100;, score=0.454 total time=   0.1s\n",
      "[CV 4/5] END learning_rate=1, max_depth=6, n_estimators=100;, score=0.502 total time=   0.1s\n",
      "[CV 5/5] END learning_rate=1, max_depth=6, n_estimators=100;, score=0.518 total time=   0.1s\n",
      "[CV 1/5] END learning_rate=1, max_depth=6, n_estimators=120;, score=0.464 total time=   0.1s\n",
      "[CV 2/5] END learning_rate=1, max_depth=6, n_estimators=120;, score=0.461 total time=   0.1s\n",
      "[CV 3/5] END learning_rate=1, max_depth=6, n_estimators=120;, score=0.453 total time=   0.1s\n",
      "[CV 4/5] END learning_rate=1, max_depth=6, n_estimators=120;, score=0.507 total time=   0.1s\n",
      "[CV 5/5] END learning_rate=1, max_depth=6, n_estimators=120;, score=0.513 total time=   0.1s\n",
      "[CV 1/5] END learning_rate=1, max_depth=6, n_estimators=150;, score=0.465 total time=   0.1s\n",
      "[CV 2/5] END learning_rate=1, max_depth=6, n_estimators=150;, score=0.467 total time=   0.1s\n",
      "[CV 3/5] END learning_rate=1, max_depth=6, n_estimators=150;, score=0.447 total time=   0.2s\n",
      "[CV 4/5] END learning_rate=1, max_depth=6, n_estimators=150;, score=0.507 total time=   0.1s\n",
      "[CV 5/5] END learning_rate=1, max_depth=6, n_estimators=150;, score=0.509 total time=   0.1s\n",
      "[CV 1/5] END learning_rate=1, max_depth=6, n_estimators=200;, score=0.462 total time=   0.2s\n",
      "[CV 2/5] END learning_rate=1, max_depth=6, n_estimators=200;, score=0.463 total time=   0.2s\n",
      "[CV 3/5] END learning_rate=1, max_depth=6, n_estimators=200;, score=0.443 total time=   0.2s\n",
      "[CV 4/5] END learning_rate=1, max_depth=6, n_estimators=200;, score=0.490 total time=   0.2s\n",
      "[CV 5/5] END learning_rate=1, max_depth=6, n_estimators=200;, score=0.507 total time=   0.2s\n",
      "[CV 1/5] END learning_rate=1, max_depth=7, n_estimators=100;, score=0.474 total time=   0.1s\n",
      "[CV 2/5] END learning_rate=1, max_depth=7, n_estimators=100;, score=0.442 total time=   0.1s\n",
      "[CV 3/5] END learning_rate=1, max_depth=7, n_estimators=100;, score=0.453 total time=   0.1s\n",
      "[CV 4/5] END learning_rate=1, max_depth=7, n_estimators=100;, score=0.502 total time=   0.1s\n",
      "[CV 5/5] END learning_rate=1, max_depth=7, n_estimators=100;, score=0.499 total time=   0.1s\n",
      "[CV 1/5] END learning_rate=1, max_depth=7, n_estimators=120;, score=0.463 total time=   0.1s\n",
      "[CV 2/5] END learning_rate=1, max_depth=7, n_estimators=120;, score=0.451 total time=   0.1s\n",
      "[CV 3/5] END learning_rate=1, max_depth=7, n_estimators=120;, score=0.451 total time=   0.1s\n",
      "[CV 4/5] END learning_rate=1, max_depth=7, n_estimators=120;, score=0.493 total time=   0.1s\n",
      "[CV 5/5] END learning_rate=1, max_depth=7, n_estimators=120;, score=0.509 total time=   0.1s\n",
      "[CV 1/5] END learning_rate=1, max_depth=7, n_estimators=150;, score=0.460 total time=   0.1s\n",
      "[CV 2/5] END learning_rate=1, max_depth=7, n_estimators=150;, score=0.459 total time=   0.1s\n",
      "[CV 3/5] END learning_rate=1, max_depth=7, n_estimators=150;, score=0.437 total time=   0.1s\n",
      "[CV 4/5] END learning_rate=1, max_depth=7, n_estimators=150;, score=0.490 total time=   0.3s\n",
      "[CV 5/5] END learning_rate=1, max_depth=7, n_estimators=150;, score=0.505 total time=   0.2s\n",
      "[CV 1/5] END learning_rate=1, max_depth=7, n_estimators=200;, score=0.451 total time=   0.2s\n",
      "[CV 2/5] END learning_rate=1, max_depth=7, n_estimators=200;, score=0.450 total time=   0.2s\n",
      "[CV 3/5] END learning_rate=1, max_depth=7, n_estimators=200;, score=0.437 total time=   0.2s\n",
      "[CV 4/5] END learning_rate=1, max_depth=7, n_estimators=200;, score=0.478 total time=   0.2s\n",
      "[CV 5/5] END learning_rate=1, max_depth=7, n_estimators=200;, score=0.500 total time=   0.2s\n"
     ]
    },
    {
     "data": {
      "text/html": [
       "<style>#sk-container-id-2 {color: black;background-color: white;}#sk-container-id-2 pre{padding: 0;}#sk-container-id-2 div.sk-toggleable {background-color: white;}#sk-container-id-2 label.sk-toggleable__label {cursor: pointer;display: block;width: 100%;margin-bottom: 0;padding: 0.3em;box-sizing: border-box;text-align: center;}#sk-container-id-2 label.sk-toggleable__label-arrow:before {content: \"▸\";float: left;margin-right: 0.25em;color: #696969;}#sk-container-id-2 label.sk-toggleable__label-arrow:hover:before {color: black;}#sk-container-id-2 div.sk-estimator:hover label.sk-toggleable__label-arrow:before {color: black;}#sk-container-id-2 div.sk-toggleable__content {max-height: 0;max-width: 0;overflow: hidden;text-align: left;background-color: #f0f8ff;}#sk-container-id-2 div.sk-toggleable__content pre {margin: 0.2em;color: black;border-radius: 0.25em;background-color: #f0f8ff;}#sk-container-id-2 input.sk-toggleable__control:checked~div.sk-toggleable__content {max-height: 200px;max-width: 100%;overflow: auto;}#sk-container-id-2 input.sk-toggleable__control:checked~label.sk-toggleable__label-arrow:before {content: \"▾\";}#sk-container-id-2 div.sk-estimator input.sk-toggleable__control:checked~label.sk-toggleable__label {background-color: #d4ebff;}#sk-container-id-2 div.sk-label input.sk-toggleable__control:checked~label.sk-toggleable__label {background-color: #d4ebff;}#sk-container-id-2 input.sk-hidden--visually {border: 0;clip: rect(1px 1px 1px 1px);clip: rect(1px, 1px, 1px, 1px);height: 1px;margin: -1px;overflow: hidden;padding: 0;position: absolute;width: 1px;}#sk-container-id-2 div.sk-estimator {font-family: monospace;background-color: #f0f8ff;border: 1px dotted black;border-radius: 0.25em;box-sizing: border-box;margin-bottom: 0.5em;}#sk-container-id-2 div.sk-estimator:hover {background-color: #d4ebff;}#sk-container-id-2 div.sk-parallel-item::after {content: \"\";width: 100%;border-bottom: 1px solid gray;flex-grow: 1;}#sk-container-id-2 div.sk-label:hover label.sk-toggleable__label {background-color: #d4ebff;}#sk-container-id-2 div.sk-serial::before {content: \"\";position: absolute;border-left: 1px solid gray;box-sizing: border-box;top: 0;bottom: 0;left: 50%;z-index: 0;}#sk-container-id-2 div.sk-serial {display: flex;flex-direction: column;align-items: center;background-color: white;padding-right: 0.2em;padding-left: 0.2em;position: relative;}#sk-container-id-2 div.sk-item {position: relative;z-index: 1;}#sk-container-id-2 div.sk-parallel {display: flex;align-items: stretch;justify-content: center;background-color: white;position: relative;}#sk-container-id-2 div.sk-item::before, #sk-container-id-2 div.sk-parallel-item::before {content: \"\";position: absolute;border-left: 1px solid gray;box-sizing: border-box;top: 0;bottom: 0;left: 50%;z-index: -1;}#sk-container-id-2 div.sk-parallel-item {display: flex;flex-direction: column;z-index: 1;position: relative;background-color: white;}#sk-container-id-2 div.sk-parallel-item:first-child::after {align-self: flex-end;width: 50%;}#sk-container-id-2 div.sk-parallel-item:last-child::after {align-self: flex-start;width: 50%;}#sk-container-id-2 div.sk-parallel-item:only-child::after {width: 0;}#sk-container-id-2 div.sk-dashed-wrapped {border: 1px dashed gray;margin: 0 0.4em 0.5em 0.4em;box-sizing: border-box;padding-bottom: 0.4em;background-color: white;}#sk-container-id-2 div.sk-label label {font-family: monospace;font-weight: bold;display: inline-block;line-height: 1.2em;}#sk-container-id-2 div.sk-label-container {text-align: center;}#sk-container-id-2 div.sk-container {/* jupyter's `normalize.less` sets `[hidden] { display: none; }` but bootstrap.min.css set `[hidden] { display: none !important; }` so we also need the `!important` here to be able to override the default hidden behavior on the sphinx rendered scikit-learn.org. See: https://github.com/scikit-learn/scikit-learn/issues/21755 */display: inline-block !important;position: relative;}#sk-container-id-2 div.sk-text-repr-fallback {display: none;}</style><div id=\"sk-container-id-2\" class=\"sk-top-container\"><div class=\"sk-text-repr-fallback\"><pre>GridSearchCV(estimator=XGBClassifier(base_score=None, booster=None,\n",
       "                                     callbacks=None, colsample_bylevel=None,\n",
       "                                     colsample_bynode=None,\n",
       "                                     colsample_bytree=None, device=None,\n",
       "                                     early_stopping_rounds=None,\n",
       "                                     enable_categorical=False, eval_metric=None,\n",
       "                                     feature_types=None, gamma=None,\n",
       "                                     grow_policy=None, importance_type=None,\n",
       "                                     interaction_constraints=None,\n",
       "                                     learning_rate=None, max_b...\n",
       "                                     max_cat_to_onehot=None,\n",
       "                                     max_delta_step=None, max_depth=None,\n",
       "                                     max_leaves=None, min_child_weight=None,\n",
       "                                     missing=nan, monotone_constraints=None,\n",
       "                                     multi_strategy=None, n_estimators=None,\n",
       "                                     n_jobs=None, num_parallel_tree=None,\n",
       "                                     random_state=None, ...),\n",
       "             param_grid={&#x27;learning_rate&#x27;: [0.5, 0.1, 0.75, 1],\n",
       "                         &#x27;max_depth&#x27;: [3, 4, 5, 6, 7],\n",
       "                         &#x27;n_estimators&#x27;: [100, 120, 150, 200]},\n",
       "             scoring=&#x27;f1&#x27;, verbose=3)</pre><b>In a Jupyter environment, please rerun this cell to show the HTML representation or trust the notebook. <br />On GitHub, the HTML representation is unable to render, please try loading this page with nbviewer.org.</b></div><div class=\"sk-container\" hidden><div class=\"sk-item sk-dashed-wrapped\"><div class=\"sk-label-container\"><div class=\"sk-label sk-toggleable\"><input class=\"sk-toggleable__control sk-hidden--visually\" id=\"sk-estimator-id-4\" type=\"checkbox\" ><label for=\"sk-estimator-id-4\" class=\"sk-toggleable__label sk-toggleable__label-arrow\">GridSearchCV</label><div class=\"sk-toggleable__content\"><pre>GridSearchCV(estimator=XGBClassifier(base_score=None, booster=None,\n",
       "                                     callbacks=None, colsample_bylevel=None,\n",
       "                                     colsample_bynode=None,\n",
       "                                     colsample_bytree=None, device=None,\n",
       "                                     early_stopping_rounds=None,\n",
       "                                     enable_categorical=False, eval_metric=None,\n",
       "                                     feature_types=None, gamma=None,\n",
       "                                     grow_policy=None, importance_type=None,\n",
       "                                     interaction_constraints=None,\n",
       "                                     learning_rate=None, max_b...\n",
       "                                     max_cat_to_onehot=None,\n",
       "                                     max_delta_step=None, max_depth=None,\n",
       "                                     max_leaves=None, min_child_weight=None,\n",
       "                                     missing=nan, monotone_constraints=None,\n",
       "                                     multi_strategy=None, n_estimators=None,\n",
       "                                     n_jobs=None, num_parallel_tree=None,\n",
       "                                     random_state=None, ...),\n",
       "             param_grid={&#x27;learning_rate&#x27;: [0.5, 0.1, 0.75, 1],\n",
       "                         &#x27;max_depth&#x27;: [3, 4, 5, 6, 7],\n",
       "                         &#x27;n_estimators&#x27;: [100, 120, 150, 200]},\n",
       "             scoring=&#x27;f1&#x27;, verbose=3)</pre></div></div></div><div class=\"sk-parallel\"><div class=\"sk-parallel-item\"><div class=\"sk-item\"><div class=\"sk-label-container\"><div class=\"sk-label sk-toggleable\"><input class=\"sk-toggleable__control sk-hidden--visually\" id=\"sk-estimator-id-5\" type=\"checkbox\" ><label for=\"sk-estimator-id-5\" class=\"sk-toggleable__label sk-toggleable__label-arrow\">estimator: XGBClassifier</label><div class=\"sk-toggleable__content\"><pre>XGBClassifier(base_score=None, booster=None, callbacks=None,\n",
       "              colsample_bylevel=None, colsample_bynode=None,\n",
       "              colsample_bytree=None, device=None, early_stopping_rounds=None,\n",
       "              enable_categorical=False, eval_metric=None, feature_types=None,\n",
       "              gamma=None, grow_policy=None, importance_type=None,\n",
       "              interaction_constraints=None, learning_rate=None, max_bin=None,\n",
       "              max_cat_threshold=None, max_cat_to_onehot=None,\n",
       "              max_delta_step=None, max_depth=None, max_leaves=None,\n",
       "              min_child_weight=None, missing=nan, monotone_constraints=None,\n",
       "              multi_strategy=None, n_estimators=None, n_jobs=None,\n",
       "              num_parallel_tree=None, random_state=None, ...)</pre></div></div></div><div class=\"sk-serial\"><div class=\"sk-item\"><div class=\"sk-estimator sk-toggleable\"><input class=\"sk-toggleable__control sk-hidden--visually\" id=\"sk-estimator-id-6\" type=\"checkbox\" ><label for=\"sk-estimator-id-6\" class=\"sk-toggleable__label sk-toggleable__label-arrow\">XGBClassifier</label><div class=\"sk-toggleable__content\"><pre>XGBClassifier(base_score=None, booster=None, callbacks=None,\n",
       "              colsample_bylevel=None, colsample_bynode=None,\n",
       "              colsample_bytree=None, device=None, early_stopping_rounds=None,\n",
       "              enable_categorical=False, eval_metric=None, feature_types=None,\n",
       "              gamma=None, grow_policy=None, importance_type=None,\n",
       "              interaction_constraints=None, learning_rate=None, max_bin=None,\n",
       "              max_cat_threshold=None, max_cat_to_onehot=None,\n",
       "              max_delta_step=None, max_depth=None, max_leaves=None,\n",
       "              min_child_weight=None, missing=nan, monotone_constraints=None,\n",
       "              multi_strategy=None, n_estimators=None, n_jobs=None,\n",
       "              num_parallel_tree=None, random_state=None, ...)</pre></div></div></div></div></div></div></div></div></div></div>"
      ],
      "text/plain": [
       "GridSearchCV(estimator=XGBClassifier(base_score=None, booster=None,\n",
       "                                     callbacks=None, colsample_bylevel=None,\n",
       "                                     colsample_bynode=None,\n",
       "                                     colsample_bytree=None, device=None,\n",
       "                                     early_stopping_rounds=None,\n",
       "                                     enable_categorical=False, eval_metric=None,\n",
       "                                     feature_types=None, gamma=None,\n",
       "                                     grow_policy=None, importance_type=None,\n",
       "                                     interaction_constraints=None,\n",
       "                                     learning_rate=None, max_b...\n",
       "                                     max_cat_to_onehot=None,\n",
       "                                     max_delta_step=None, max_depth=None,\n",
       "                                     max_leaves=None, min_child_weight=None,\n",
       "                                     missing=nan, monotone_constraints=None,\n",
       "                                     multi_strategy=None, n_estimators=None,\n",
       "                                     n_jobs=None, num_parallel_tree=None,\n",
       "                                     random_state=None, ...),\n",
       "             param_grid={'learning_rate': [0.5, 0.1, 0.75, 1],\n",
       "                         'max_depth': [3, 4, 5, 6, 7],\n",
       "                         'n_estimators': [100, 120, 150, 200]},\n",
       "             scoring='f1', verbose=3)"
      ]
     },
     "execution_count": 60,
     "metadata": {},
     "output_type": "execute_result"
    }
   ],
   "source": [
    "gscv.fit(xtrain,ytrain)"
   ]
  },
  {
   "cell_type": "code",
   "execution_count": 61,
   "id": "72ee8d1a",
   "metadata": {},
   "outputs": [
    {
     "name": "stdout",
     "output_type": "stream",
     "text": [
      "Classification report \n",
      "               precision    recall  f1-score   support\n",
      "\n",
      "           0       0.94      1.00      0.97      9988\n",
      "           1       0.89      0.36      0.51       974\n",
      "\n",
      "    accuracy                           0.94     10962\n",
      "   macro avg       0.92      0.68      0.74     10962\n",
      "weighted avg       0.94      0.94      0.93     10962\n",
      "\n"
     ]
    },
    {
     "data": {
      "image/png": "[encoded data removed]",
      "text/plain": [
       "<Figure size 640x480 with 1 Axes>"
      ]
     },
     "metadata": {},
     "output_type": "display_data"
    },
    {
     "name": "stdout",
     "output_type": "stream",
     "text": [
      "Do you want to add this to the scorecard? Y/Ny\n"
     ]
    }
   ],
   "source": [
    "model_validation(XGBClassifier(**gscv.best_params_),xtrain,ytrain,xtest,ytest)"
   ]
  },
  {
   "cell_type": "code",
   "execution_count": 62,
   "id": "a4d96253",
   "metadata": {},
   "outputs": [
    {
     "data": {
      "text/html": [
       "<div>\n",
       "<style scoped>\n",
       "    .dataframe tbody tr th:only-of-type {\n",
       "        vertical-align: middle;\n",
       "    }\n",
       "\n",
       "    .dataframe tbody tr th {\n",
       "        vertical-align: top;\n",
       "    }\n",
       "\n",
       "    .dataframe thead th {\n",
       "        text-align: right;\n",
       "    }\n",
       "</style>\n",
       "<table border=\"1\" class=\"dataframe\">\n",
       "  <thead>\n",
       "    <tr style=\"text-align: right;\">\n",
       "      <th></th>\n",
       "      <th>Model</th>\n",
       "      <th>Accuracy</th>\n",
       "      <th>Precision</th>\n",
       "      <th>F1_Score</th>\n",
       "      <th>Recall</th>\n",
       "      <th>Cohen-Kappa</th>\n",
       "    </tr>\n",
       "  </thead>\n",
       "  <tbody>\n",
       "    <tr>\n",
       "      <th>0</th>\n",
       "      <td>LogisticRegression()</td>\n",
       "      <td>0.908958</td>\n",
       "      <td>0.431818</td>\n",
       "      <td>0.132174</td>\n",
       "      <td>0.078029</td>\n",
       "      <td>0.107912</td>\n",
       "    </tr>\n",
       "    <tr>\n",
       "      <th>1</th>\n",
       "      <td>DecisionTreeClassifier(max_depth=6)</td>\n",
       "      <td>0.923554</td>\n",
       "      <td>0.930380</td>\n",
       "      <td>0.259717</td>\n",
       "      <td>0.150924</td>\n",
       "      <td>0.240889</td>\n",
       "    </tr>\n",
       "    <tr>\n",
       "      <th>2</th>\n",
       "      <td>RandomForestClassifier(max_depth=8, n_estimato...</td>\n",
       "      <td>0.923554</td>\n",
       "      <td>0.953333</td>\n",
       "      <td>0.254448</td>\n",
       "      <td>0.146817</td>\n",
       "      <td>0.236338</td>\n",
       "    </tr>\n",
       "    <tr>\n",
       "      <th>3</th>\n",
       "      <td>AdaBoostClassifier(base_estimator=DecisionTree...</td>\n",
       "      <td>0.932950</td>\n",
       "      <td>0.758099</td>\n",
       "      <td>0.488518</td>\n",
       "      <td>0.360370</td>\n",
       "      <td>0.457454</td>\n",
       "    </tr>\n",
       "    <tr>\n",
       "      <th>4</th>\n",
       "      <td>GradientBoostingClassifier(max_depth=6, n_esti...</td>\n",
       "      <td>0.940431</td>\n",
       "      <td>0.919060</td>\n",
       "      <td>0.518791</td>\n",
       "      <td>0.361396</td>\n",
       "      <td>0.493382</td>\n",
       "    </tr>\n",
       "    <tr>\n",
       "      <th>5</th>\n",
       "      <td>XGBClassifier(base_score=None, booster=None, c...</td>\n",
       "      <td>0.939427</td>\n",
       "      <td>0.879902</td>\n",
       "      <td>0.519537</td>\n",
       "      <td>0.368583</td>\n",
       "      <td>0.492935</td>\n",
       "    </tr>\n",
       "    <tr>\n",
       "      <th>6</th>\n",
       "      <td>VotingClassifier(estimators=[('DT_4', Decision...</td>\n",
       "      <td>0.926747</td>\n",
       "      <td>0.972376</td>\n",
       "      <td>0.304762</td>\n",
       "      <td>0.180698</td>\n",
       "      <td>0.284846</td>\n",
       "    </tr>\n",
       "    <tr>\n",
       "      <th>7</th>\n",
       "      <td>StackingClassifier(estimators=[('DT_4', Decisi...</td>\n",
       "      <td>0.938059</td>\n",
       "      <td>0.837529</td>\n",
       "      <td>0.518781</td>\n",
       "      <td>0.375770</td>\n",
       "      <td>0.490754</td>\n",
       "    </tr>\n",
       "    <tr>\n",
       "      <th>8</th>\n",
       "      <td>XGBClassifier(base_score=None, booster=None, c...</td>\n",
       "      <td>0.939245</td>\n",
       "      <td>0.888889</td>\n",
       "      <td>0.513869</td>\n",
       "      <td>0.361396</td>\n",
       "      <td>0.487546</td>\n",
       "    </tr>\n",
       "  </tbody>\n",
       "</table>\n",
       "</div>"
      ],
      "text/plain": [
       "                                               Model  Accuracy  Precision  \\\n",
       "0                               LogisticRegression()  0.908958   0.431818   \n",
       "1                DecisionTreeClassifier(max_depth=6)  0.923554   0.930380   \n",
       "2  RandomForestClassifier(max_depth=8, n_estimato...  0.923554   0.953333   \n",
       "3  AdaBoostClassifier(base_estimator=DecisionTree...  0.932950   0.758099   \n",
       "4  GradientBoostingClassifier(max_depth=6, n_esti...  0.940431   0.919060   \n",
       "5  XGBClassifier(base_score=None, booster=None, c...  0.939427   0.879902   \n",
       "6  VotingClassifier(estimators=[('DT_4', Decision...  0.926747   0.972376   \n",
       "7  StackingClassifier(estimators=[('DT_4', Decisi...  0.938059   0.837529   \n",
       "8  XGBClassifier(base_score=None, booster=None, c...  0.939245   0.888889   \n",
       "\n",
       "   F1_Score    Recall  Cohen-Kappa  \n",
       "0  0.132174  0.078029     0.107912  \n",
       "1  0.259717  0.150924     0.240889  \n",
       "2  0.254448  0.146817     0.236338  \n",
       "3  0.488518  0.360370     0.457454  \n",
       "4  0.518791  0.361396     0.493382  \n",
       "5  0.519537  0.368583     0.492935  \n",
       "6  0.304762  0.180698     0.284846  \n",
       "7  0.518781  0.375770     0.490754  \n",
       "8  0.513869  0.361396     0.487546  "
      ]
     },
     "execution_count": 62,
     "metadata": {},
     "output_type": "execute_result"
    }
   ],
   "source": [
    "scorecard"
   ]
  },
  {
   "cell_type": "markdown",
   "id": "1ba2b568",
   "metadata": {},
   "source": [
    "# Final Model"
   ]
  },
  {
   "cell_type": "code",
   "execution_count": 63,
   "id": "a77b73ea",
   "metadata": {},
   "outputs": [],
   "source": [
    "final_model = XGBClassifier(**gscv.best_params_)"
   ]
  },
  {
   "cell_type": "code",
   "execution_count": 64,
   "id": "2e9601cb",
   "metadata": {},
   "outputs": [
    {
     "data": {
      "text/html": [
       "<style>#sk-container-id-3 {color: black;background-color: white;}#sk-container-id-3 pre{padding: 0;}#sk-container-id-3 div.sk-toggleable {background-color: white;}#sk-container-id-3 label.sk-toggleable__label {cursor: pointer;display: block;width: 100%;margin-bottom: 0;padding: 0.3em;box-sizing: border-box;text-align: center;}#sk-container-id-3 label.sk-toggleable__label-arrow:before {content: \"▸\";float: left;margin-right: 0.25em;color: #696969;}#sk-container-id-3 label.sk-toggleable__label-arrow:hover:before {color: black;}#sk-container-id-3 div.sk-estimator:hover label.sk-toggleable__label-arrow:before {color: black;}#sk-container-id-3 div.sk-toggleable__content {max-height: 0;max-width: 0;overflow: hidden;text-align: left;background-color: #f0f8ff;}#sk-container-id-3 div.sk-toggleable__content pre {margin: 0.2em;color: black;border-radius: 0.25em;background-color: #f0f8ff;}#sk-container-id-3 input.sk-toggleable__control:checked~div.sk-toggleable__content {max-height: 200px;max-width: 100%;overflow: auto;}#sk-container-id-3 input.sk-toggleable__control:checked~label.sk-toggleable__label-arrow:before {content: \"▾\";}#sk-container-id-3 div.sk-estimator input.sk-toggleable__control:checked~label.sk-toggleable__label {background-color: #d4ebff;}#sk-container-id-3 div.sk-label input.sk-toggleable__control:checked~label.sk-toggleable__label {background-color: #d4ebff;}#sk-container-id-3 input.sk-hidden--visually {border: 0;clip: rect(1px 1px 1px 1px);clip: rect(1px, 1px, 1px, 1px);height: 1px;margin: -1px;overflow: hidden;padding: 0;position: absolute;width: 1px;}#sk-container-id-3 div.sk-estimator {font-family: monospace;background-color: #f0f8ff;border: 1px dotted black;border-radius: 0.25em;box-sizing: border-box;margin-bottom: 0.5em;}#sk-container-id-3 div.sk-estimator:hover {background-color: #d4ebff;}#sk-container-id-3 div.sk-parallel-item::after {content: \"\";width: 100%;border-bottom: 1px solid gray;flex-grow: 1;}#sk-container-id-3 div.sk-label:hover label.sk-toggleable__label {background-color: #d4ebff;}#sk-container-id-3 div.sk-serial::before {content: \"\";position: absolute;border-left: 1px solid gray;box-sizing: border-box;top: 0;bottom: 0;left: 50%;z-index: 0;}#sk-container-id-3 div.sk-serial {display: flex;flex-direction: column;align-items: center;background-color: white;padding-right: 0.2em;padding-left: 0.2em;position: relative;}#sk-container-id-3 div.sk-item {position: relative;z-index: 1;}#sk-container-id-3 div.sk-parallel {display: flex;align-items: stretch;justify-content: center;background-color: white;position: relative;}#sk-container-id-3 div.sk-item::before, #sk-container-id-3 div.sk-parallel-item::before {content: \"\";position: absolute;border-left: 1px solid gray;box-sizing: border-box;top: 0;bottom: 0;left: 50%;z-index: -1;}#sk-container-id-3 div.sk-parallel-item {display: flex;flex-direction: column;z-index: 1;position: relative;background-color: white;}#sk-container-id-3 div.sk-parallel-item:first-child::after {align-self: flex-end;width: 50%;}#sk-container-id-3 div.sk-parallel-item:last-child::after {align-self: flex-start;width: 50%;}#sk-container-id-3 div.sk-parallel-item:only-child::after {width: 0;}#sk-container-id-3 div.sk-dashed-wrapped {border: 1px dashed gray;margin: 0 0.4em 0.5em 0.4em;box-sizing: border-box;padding-bottom: 0.4em;background-color: white;}#sk-container-id-3 div.sk-label label {font-family: monospace;font-weight: bold;display: inline-block;line-height: 1.2em;}#sk-container-id-3 div.sk-label-container {text-align: center;}#sk-container-id-3 div.sk-container {/* jupyter's `normalize.less` sets `[hidden] { display: none; }` but bootstrap.min.css set `[hidden] { display: none !important; }` so we also need the `!important` here to be able to override the default hidden behavior on the sphinx rendered scikit-learn.org. See: https://github.com/scikit-learn/scikit-learn/issues/21755 */display: inline-block !important;position: relative;}#sk-container-id-3 div.sk-text-repr-fallback {display: none;}</style><div id=\"sk-container-id-3\" class=\"sk-top-container\"><div class=\"sk-text-repr-fallback\"><pre>XGBClassifier(base_score=None, booster=None, callbacks=None,\n",
       "              colsample_bylevel=None, colsample_bynode=None,\n",
       "              colsample_bytree=None, device=None, early_stopping_rounds=None,\n",
       "              enable_categorical=False, eval_metric=None, feature_types=None,\n",
       "              gamma=None, grow_policy=None, importance_type=None,\n",
       "              interaction_constraints=None, learning_rate=0.5, max_bin=None,\n",
       "              max_cat_threshold=None, max_cat_to_onehot=None,\n",
       "              max_delta_step=None, max_depth=3, max_leaves=None,\n",
       "              min_child_weight=None, missing=nan, monotone_constraints=None,\n",
       "              multi_strategy=None, n_estimators=200, n_jobs=None,\n",
       "              num_parallel_tree=None, random_state=None, ...)</pre><b>In a Jupyter environment, please rerun this cell to show the HTML representation or trust the notebook. <br />On GitHub, the HTML representation is unable to render, please try loading this page with nbviewer.org.</b></div><div class=\"sk-container\" hidden><div class=\"sk-item\"><div class=\"sk-estimator sk-toggleable\"><input class=\"sk-toggleable__control sk-hidden--visually\" id=\"sk-estimator-id-7\" type=\"checkbox\" checked><label for=\"sk-estimator-id-7\" class=\"sk-toggleable__label sk-toggleable__label-arrow\">XGBClassifier</label><div class=\"sk-toggleable__content\"><pre>XGBClassifier(base_score=None, booster=None, callbacks=None,\n",
       "              colsample_bylevel=None, colsample_bynode=None,\n",
       "              colsample_bytree=None, device=None, early_stopping_rounds=None,\n",
       "              enable_categorical=False, eval_metric=None, feature_types=None,\n",
       "              gamma=None, grow_policy=None, importance_type=None,\n",
       "              interaction_constraints=None, learning_rate=0.5, max_bin=None,\n",
       "              max_cat_threshold=None, max_cat_to_onehot=None,\n",
       "              max_delta_step=None, max_depth=3, max_leaves=None,\n",
       "              min_child_weight=None, missing=nan, monotone_constraints=None,\n",
       "              multi_strategy=None, n_estimators=200, n_jobs=None,\n",
       "              num_parallel_tree=None, random_state=None, ...)</pre></div></div></div></div></div>"
      ],
      "text/plain": [
       "XGBClassifier(base_score=None, booster=None, callbacks=None,\n",
       "              colsample_bylevel=None, colsample_bynode=None,\n",
       "              colsample_bytree=None, device=None, early_stopping_rounds=None,\n",
       "              enable_categorical=False, eval_metric=None, feature_types=None,\n",
       "              gamma=None, grow_policy=None, importance_type=None,\n",
       "              interaction_constraints=None, learning_rate=0.5, max_bin=None,\n",
       "              max_cat_threshold=None, max_cat_to_onehot=None,\n",
       "              max_delta_step=None, max_depth=3, max_leaves=None,\n",
       "              min_child_weight=None, missing=nan, monotone_constraints=None,\n",
       "              multi_strategy=None, n_estimators=200, n_jobs=None,\n",
       "              num_parallel_tree=None, random_state=None, ...)"
      ]
     },
     "execution_count": 64,
     "metadata": {},
     "output_type": "execute_result"
    }
   ],
   "source": [
    "final_model.fit(xtrain,ytrain)"
   ]
  },
  {
   "cell_type": "code",
   "execution_count": 65,
   "id": "0592e74a",
   "metadata": {},
   "outputs": [],
   "source": [
    "# Prediction"
   ]
  },
  {
   "cell_type": "code",
   "execution_count": 66,
   "id": "f9db4277",
   "metadata": {},
   "outputs": [
    {
     "data": {
      "text/html": [
       "<div>\n",
       "<style scoped>\n",
       "    .dataframe tbody tr th:only-of-type {\n",
       "        vertical-align: middle;\n",
       "    }\n",
       "\n",
       "    .dataframe tbody tr th {\n",
       "        vertical-align: top;\n",
       "    }\n",
       "\n",
       "    .dataframe thead th {\n",
       "        text-align: right;\n",
       "    }\n",
       "</style>\n",
       "<table border=\"1\" class=\"dataframe\">\n",
       "  <thead>\n",
       "    <tr style=\"text-align: right;\">\n",
       "      <th></th>\n",
       "      <th>department</th>\n",
       "      <th>education</th>\n",
       "      <th>gender</th>\n",
       "      <th>recruitment_channel</th>\n",
       "      <th>no_of_trainings</th>\n",
       "      <th>age</th>\n",
       "      <th>previous_year_rating</th>\n",
       "      <th>length_of_service</th>\n",
       "      <th>KPIs_met &gt;80%</th>\n",
       "      <th>awards_won?</th>\n",
       "      <th>avg_training_score</th>\n",
       "    </tr>\n",
       "  </thead>\n",
       "  <tbody>\n",
       "    <tr>\n",
       "      <th>39633</th>\n",
       "      <td>7</td>\n",
       "      <td>0</td>\n",
       "      <td>1</td>\n",
       "      <td>2</td>\n",
       "      <td>1</td>\n",
       "      <td>34</td>\n",
       "      <td>1.0</td>\n",
       "      <td>7</td>\n",
       "      <td>0</td>\n",
       "      <td>0</td>\n",
       "      <td>48</td>\n",
       "    </tr>\n",
       "    <tr>\n",
       "      <th>30898</th>\n",
       "      <td>8</td>\n",
       "      <td>2</td>\n",
       "      <td>0</td>\n",
       "      <td>0</td>\n",
       "      <td>1</td>\n",
       "      <td>43</td>\n",
       "      <td>3.0</td>\n",
       "      <td>7</td>\n",
       "      <td>0</td>\n",
       "      <td>0</td>\n",
       "      <td>79</td>\n",
       "    </tr>\n",
       "    <tr>\n",
       "      <th>21726</th>\n",
       "      <td>8</td>\n",
       "      <td>2</td>\n",
       "      <td>0</td>\n",
       "      <td>0</td>\n",
       "      <td>2</td>\n",
       "      <td>33</td>\n",
       "      <td>5.0</td>\n",
       "      <td>4</td>\n",
       "      <td>1</td>\n",
       "      <td>0</td>\n",
       "      <td>85</td>\n",
       "    </tr>\n",
       "    <tr>\n",
       "      <th>13413</th>\n",
       "      <td>2</td>\n",
       "      <td>0</td>\n",
       "      <td>1</td>\n",
       "      <td>0</td>\n",
       "      <td>1</td>\n",
       "      <td>31</td>\n",
       "      <td>3.0</td>\n",
       "      <td>3</td>\n",
       "      <td>0</td>\n",
       "      <td>0</td>\n",
       "      <td>51</td>\n",
       "    </tr>\n",
       "    <tr>\n",
       "      <th>22223</th>\n",
       "      <td>0</td>\n",
       "      <td>0</td>\n",
       "      <td>1</td>\n",
       "      <td>0</td>\n",
       "      <td>1</td>\n",
       "      <td>25</td>\n",
       "      <td>3.0</td>\n",
       "      <td>2</td>\n",
       "      <td>1</td>\n",
       "      <td>0</td>\n",
       "      <td>83</td>\n",
       "    </tr>\n",
       "  </tbody>\n",
       "</table>\n",
       "</div>"
      ],
      "text/plain": [
       "       department  education  gender  recruitment_channel  no_of_trainings  \\\n",
       "39633           7          0       1                    2                1   \n",
       "30898           8          2       0                    0                1   \n",
       "21726           8          2       0                    0                2   \n",
       "13413           2          0       1                    0                1   \n",
       "22223           0          0       1                    0                1   \n",
       "\n",
       "       age  previous_year_rating  length_of_service  KPIs_met >80%  \\\n",
       "39633   34                   1.0                  7              0   \n",
       "30898   43                   3.0                  7              0   \n",
       "21726   33                   5.0                  4              1   \n",
       "13413   31                   3.0                  3              0   \n",
       "22223   25                   3.0                  2              1   \n",
       "\n",
       "       awards_won?  avg_training_score  \n",
       "39633            0                  48  \n",
       "30898            0                  79  \n",
       "21726            0                  85  \n",
       "13413            0                  51  \n",
       "22223            0                  83  "
      ]
     },
     "execution_count": 66,
     "metadata": {},
     "output_type": "execute_result"
    }
   ],
   "source": [
    "xtest.head()"
   ]
  },
  {
   "cell_type": "code",
   "execution_count": 67,
   "id": "c7ce464a",
   "metadata": {},
   "outputs": [
    {
     "data": {
      "text/plain": [
       "0.9905031"
      ]
     },
     "execution_count": 67,
     "metadata": {},
     "output_type": "execute_result"
    }
   ],
   "source": [
    "final_model.predict_proba([[7,2,0,2,1,40,5,25,0,0,73]])[:,1][0]"
   ]
  },
  {
   "cell_type": "code",
   "execution_count": null,
   "id": "41c7b4b3",
   "metadata": {},
   "outputs": [],
   "source": []
  },
  {
   "cell_type": "code",
   "execution_count": null,
   "id": "2c7c4446",
   "metadata": {},
   "outputs": [],
   "source": []
  },
  {
   "cell_type": "code",
   "execution_count": null,
   "id": "4a868ef7",
   "metadata": {},
   "outputs": [],
   "source": []
  },
  {
   "cell_type": "code",
   "execution_count": null,
   "id": "a5a80214",
   "metadata": {},
   "outputs": [],
   "source": []
  },
  {
   "cell_type": "code",
   "execution_count": null,
   "id": "12578f50",
   "metadata": {},
   "outputs": [],
   "source": []
  },
  {
   "cell_type": "code",
   "execution_count": null,
   "id": "dd18f704",
   "metadata": {},
   "outputs": [],
   "source": []
  },
  {
   "cell_type": "code",
   "execution_count": null,
   "id": "b0fe44cc",
   "metadata": {},
   "outputs": [],
   "source": []
  },
  {
   "cell_type": "code",
   "execution_count": null,
   "id": "4fcb2eba",
   "metadata": {},
   "outputs": [],
   "source": []
  },
  {
   "cell_type": "code",
   "execution_count": null,
   "id": "8d74fa78",
   "metadata": {},
   "outputs": [],
   "source": []
  },
  {
   "cell_type": "code",
   "execution_count": null,
   "id": "be816b2f",
   "metadata": {},
   "outputs": [],
   "source": []
  },
  {
   "cell_type": "code",
   "execution_count": null,
   "id": "3d303dcc",
   "metadata": {},
   "outputs": [],
   "source": []
  },
  {
   "cell_type": "code",
   "execution_count": null,
   "id": "fbac110c",
   "metadata": {},
   "outputs": [],
   "source": []
  },
  {
   "cell_type": "code",
   "execution_count": null,
   "id": "96d62bb7",
   "metadata": {},
   "outputs": [],
   "source": []
  },
  {
   "cell_type": "code",
   "execution_count": null,
   "id": "e92de9d0",
   "metadata": {},
   "outputs": [],
   "source": []
  },
  {
   "cell_type": "code",
   "execution_count": null,
   "id": "3fa07697",
   "metadata": {},
   "outputs": [],
   "source": []
  },
  {
   "cell_type": "code",
   "execution_count": null,
   "id": "fc5a7232",
   "metadata": {},
   "outputs": [],
   "source": []
  },
  {
   "cell_type": "code",
   "execution_count": null,
   "id": "1ac31295",
   "metadata": {},
   "outputs": [],
   "source": []
  },
  {
   "cell_type": "code",
   "execution_count": null,
   "id": "0716d789",
   "metadata": {},
   "outputs": [],
   "source": []
  },
  {
   "cell_type": "markdown",
   "id": "f0ae8757",
   "metadata": {},
   "source": []
  }
 ],
 "metadata": {
  "kernelspec": {
   "display_name": "Python 3 (ipykernel)",
   "language": "python",
   "name": "python3"
  },
  "language_info": {
   "codemirror_mode": {
    "name": "ipython",
    "version": 3
   },
   "file_extension": ".py",
   "mimetype": "text/x-python",
   "name": "python",
   "nbconvert_exporter": "python",
   "pygments_lexer": "ipython3",
   "version": "3.10.9"
  }
 },
 "nbformat": 4,
 "nbformat_minor": 5
}
